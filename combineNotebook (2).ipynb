{
 "cells": [
  {
   "cell_type": "code",
   "execution_count": 154,
   "id": "a490540d",
   "metadata": {},
   "outputs": [],
   "source": [
    "import pandas as pd\n",
    "import numpy as np"
   ]
  },
  {
   "cell_type": "code",
   "execution_count": 155,
   "id": "24361640",
   "metadata": {},
   "outputs": [],
   "source": [
    "combine_data_2013 = pd.read_csv('../data/combine_data_2013.csv')\n",
    "combine_data_2014 = pd.read_csv('../data/combine_data_2014.csv')\n",
    "combine_data_2015 = pd.read_csv('../data/combine_data_2015.csv')\n",
    "combine_data_2016 = pd.read_csv('../data/combine_data_2016.csv')\n",
    "combine_data_2017 = pd.read_csv('../data/combine_data_2017.csv')"
   ]
  },
  {
   "cell_type": "code",
   "execution_count": 156,
   "id": "5a77e5ee",
   "metadata": {},
   "outputs": [],
   "source": [
    "player_data_2013 = pd.read_csv('../data/player_data_2013.csv')\n",
    "player_data_2014 = pd.read_csv('../data/player_data_2014.csv')\n",
    "player_data_2015 = pd.read_csv('../data/player_data_2015.csv')\n",
    "player_data_2016 = pd.read_csv('../data/player_data_2016.csv')\n",
    "player_data_2017 = pd.read_csv('../data/player_data_2017.csv')"
   ]
  },
  {
   "cell_type": "markdown",
   "id": "5797c2a4",
   "metadata": {},
   "source": [
    "Note that here we will start our data cleaning\n",
    "- we will focus on cleaning up the combine pandas dataframe to include players name and the six combine workout that each player is evaulated upon\n",
    "\n",
    "- we will also focus on cleaning up the player pandas dataframe to include the players name and the games played"
   ]
  },
  {
   "cell_type": "code",
   "execution_count": 157,
   "id": "c809b207",
   "metadata": {},
   "outputs": [
    {
     "data": {
      "text/html": [
       "<div>\n",
       "<style scoped>\n",
       "    .dataframe tbody tr th:only-of-type {\n",
       "        vertical-align: middle;\n",
       "    }\n",
       "\n",
       "    .dataframe tbody tr th {\n",
       "        vertical-align: top;\n",
       "    }\n",
       "\n",
       "    .dataframe thead th {\n",
       "        text-align: right;\n",
       "    }\n",
       "</style>\n",
       "<table border=\"1\" class=\"dataframe\">\n",
       "  <thead>\n",
       "    <tr style=\"text-align: right;\">\n",
       "      <th></th>\n",
       "      <th>Player</th>\n",
       "      <th>40yd</th>\n",
       "      <th>Vertical</th>\n",
       "      <th>Bench</th>\n",
       "      <th>BroadJump</th>\n",
       "      <th>3Cone</th>\n",
       "      <th>Shuttle</th>\n",
       "    </tr>\n",
       "  </thead>\n",
       "  <tbody>\n",
       "    <tr>\n",
       "      <th>0</th>\n",
       "      <td>Jamal Adams</td>\n",
       "      <td>4.56</td>\n",
       "      <td>31.5</td>\n",
       "      <td>18.0</td>\n",
       "      <td>120.0</td>\n",
       "      <td>6.96</td>\n",
       "      <td>4.13</td>\n",
       "    </tr>\n",
       "    <tr>\n",
       "      <th>1</th>\n",
       "      <td>Montravius Adams</td>\n",
       "      <td>4.87</td>\n",
       "      <td>29.0</td>\n",
       "      <td>22.0</td>\n",
       "      <td>108.0</td>\n",
       "      <td>7.62</td>\n",
       "      <td>4.89</td>\n",
       "    </tr>\n",
       "    <tr>\n",
       "      <th>2</th>\n",
       "      <td>Rodney Adams</td>\n",
       "      <td>4.44</td>\n",
       "      <td>29.5</td>\n",
       "      <td>8.0</td>\n",
       "      <td>125.0</td>\n",
       "      <td>6.98</td>\n",
       "      <td>4.28</td>\n",
       "    </tr>\n",
       "    <tr>\n",
       "      <th>3</th>\n",
       "      <td>Quincy Adeboyejo</td>\n",
       "      <td>4.42</td>\n",
       "      <td>34.5</td>\n",
       "      <td>8.0</td>\n",
       "      <td>123.0</td>\n",
       "      <td>6.73</td>\n",
       "      <td>4.14</td>\n",
       "    </tr>\n",
       "    <tr>\n",
       "      <th>4</th>\n",
       "      <td>Brian Allen</td>\n",
       "      <td>4.48</td>\n",
       "      <td>34.5</td>\n",
       "      <td>15.0</td>\n",
       "      <td>117.0</td>\n",
       "      <td>6.64</td>\n",
       "      <td>4.34</td>\n",
       "    </tr>\n",
       "    <tr>\n",
       "      <th>...</th>\n",
       "      <td>...</td>\n",
       "      <td>...</td>\n",
       "      <td>...</td>\n",
       "      <td>...</td>\n",
       "      <td>...</td>\n",
       "      <td>...</td>\n",
       "      <td>...</td>\n",
       "    </tr>\n",
       "    <tr>\n",
       "      <th>322</th>\n",
       "      <td>Jesus Wilson</td>\n",
       "      <td>4.57</td>\n",
       "      <td>NaN</td>\n",
       "      <td>10.0</td>\n",
       "      <td>119.0</td>\n",
       "      <td>NaN</td>\n",
       "      <td>4.57</td>\n",
       "    </tr>\n",
       "    <tr>\n",
       "      <th>323</th>\n",
       "      <td>Quincy Wilson</td>\n",
       "      <td>4.54</td>\n",
       "      <td>32.0</td>\n",
       "      <td>14.0</td>\n",
       "      <td>118.0</td>\n",
       "      <td>6.86</td>\n",
       "      <td>4.02</td>\n",
       "    </tr>\n",
       "    <tr>\n",
       "      <th>324</th>\n",
       "      <td>Ahkello Witherspoon</td>\n",
       "      <td>4.45</td>\n",
       "      <td>40.5</td>\n",
       "      <td>NaN</td>\n",
       "      <td>127.0</td>\n",
       "      <td>6.93</td>\n",
       "      <td>4.13</td>\n",
       "    </tr>\n",
       "    <tr>\n",
       "      <th>325</th>\n",
       "      <td>Xavier Woods</td>\n",
       "      <td>4.54</td>\n",
       "      <td>33.5</td>\n",
       "      <td>19.0</td>\n",
       "      <td>122.0</td>\n",
       "      <td>6.72</td>\n",
       "      <td>4.13</td>\n",
       "    </tr>\n",
       "    <tr>\n",
       "      <th>326</th>\n",
       "      <td>Chris Wormley</td>\n",
       "      <td>NaN</td>\n",
       "      <td>NaN</td>\n",
       "      <td>23.0</td>\n",
       "      <td>NaN</td>\n",
       "      <td>NaN</td>\n",
       "      <td>NaN</td>\n",
       "    </tr>\n",
       "  </tbody>\n",
       "</table>\n",
       "<p>327 rows × 7 columns</p>\n",
       "</div>"
      ],
      "text/plain": [
       "                  Player  40yd  Vertical  Bench  BroadJump  3Cone  Shuttle\n",
       "0            Jamal Adams  4.56      31.5   18.0      120.0   6.96     4.13\n",
       "1       Montravius Adams  4.87      29.0   22.0      108.0   7.62     4.89\n",
       "2           Rodney Adams  4.44      29.5    8.0      125.0   6.98     4.28\n",
       "3       Quincy Adeboyejo  4.42      34.5    8.0      123.0   6.73     4.14\n",
       "4            Brian Allen  4.48      34.5   15.0      117.0   6.64     4.34\n",
       "..                   ...   ...       ...    ...        ...    ...      ...\n",
       "322         Jesus Wilson  4.57       NaN   10.0      119.0    NaN     4.57\n",
       "323        Quincy Wilson  4.54      32.0   14.0      118.0   6.86     4.02\n",
       "324  Ahkello Witherspoon  4.45      40.5    NaN      127.0   6.93     4.13\n",
       "325         Xavier Woods  4.54      33.5   19.0      122.0   6.72     4.13\n",
       "326        Chris Wormley   NaN       NaN   23.0        NaN    NaN      NaN\n",
       "\n",
       "[327 rows x 7 columns]"
      ]
     },
     "execution_count": 157,
     "metadata": {},
     "output_type": "execute_result"
    }
   ],
   "source": [
    "combine_data_2013 = combine_data_2013[['Player', '40yd', 'Vertical','Bench', 'BroadJump', '3Cone', 'Shuttle']]\n",
    "combine_data_2014 = combine_data_2014[['Player', '40yd', 'Vertical','Bench', 'BroadJump', '3Cone', 'Shuttle']]\n",
    "combine_data_2015 = combine_data_2015[['Player', '40yd', 'Vertical','Bench', 'BroadJump', '3Cone', 'Shuttle']]\n",
    "combine_data_2016 = combine_data_2016[['Player', '40yd', 'Vertical','Bench', 'BroadJump', '3Cone', 'Shuttle']]\n",
    "combine_data_2017 = combine_data_2017[['Player', '40yd', 'Vertical','Bench', 'BroadJump', '3Cone', 'Shuttle']]\n",
    "combine_data_2017"
   ]
  },
  {
   "cell_type": "code",
   "execution_count": 158,
   "id": "4e984903",
   "metadata": {
    "scrolled": false
   },
   "outputs": [
    {
     "data": {
      "text/html": [
       "<div>\n",
       "<style scoped>\n",
       "    .dataframe tbody tr th:only-of-type {\n",
       "        vertical-align: middle;\n",
       "    }\n",
       "\n",
       "    .dataframe tbody tr th {\n",
       "        vertical-align: top;\n",
       "    }\n",
       "\n",
       "    .dataframe thead th {\n",
       "        text-align: right;\n",
       "    }\n",
       "</style>\n",
       "<table border=\"1\" class=\"dataframe\">\n",
       "  <thead>\n",
       "    <tr style=\"text-align: right;\">\n",
       "      <th></th>\n",
       "      <th>PlayerName</th>\n",
       "      <th>Games</th>\n",
       "    </tr>\n",
       "  </thead>\n",
       "  <tbody>\n",
       "    <tr>\n",
       "      <th>0</th>\n",
       "      <td>Player</td>\n",
       "      <td>G</td>\n",
       "    </tr>\n",
       "    <tr>\n",
       "      <th>1</th>\n",
       "      <td>Todd Gurley*+</td>\n",
       "      <td>15</td>\n",
       "    </tr>\n",
       "    <tr>\n",
       "      <th>2</th>\n",
       "      <td>Le'Veon Bell*+</td>\n",
       "      <td>15</td>\n",
       "    </tr>\n",
       "    <tr>\n",
       "      <th>3</th>\n",
       "      <td>Kareem Hunt*</td>\n",
       "      <td>16</td>\n",
       "    </tr>\n",
       "    <tr>\n",
       "      <th>4</th>\n",
       "      <td>LeSean McCoy*</td>\n",
       "      <td>16</td>\n",
       "    </tr>\n",
       "    <tr>\n",
       "      <th>...</th>\n",
       "      <td>...</td>\n",
       "      <td>...</td>\n",
       "    </tr>\n",
       "    <tr>\n",
       "      <th>530</th>\n",
       "      <td>Nick Bellore</td>\n",
       "      <td>13</td>\n",
       "    </tr>\n",
       "    <tr>\n",
       "      <th>531</th>\n",
       "      <td>Justin Davis</td>\n",
       "      <td>4</td>\n",
       "    </tr>\n",
       "    <tr>\n",
       "      <th>532</th>\n",
       "      <td>Matt Hazel</td>\n",
       "      <td>4</td>\n",
       "    </tr>\n",
       "    <tr>\n",
       "      <th>533</th>\n",
       "      <td>Devante Mays</td>\n",
       "      <td>8</td>\n",
       "    </tr>\n",
       "    <tr>\n",
       "      <th>534</th>\n",
       "      <td>Kyle Williams</td>\n",
       "      <td>16</td>\n",
       "    </tr>\n",
       "  </tbody>\n",
       "</table>\n",
       "<p>535 rows × 2 columns</p>\n",
       "</div>"
      ],
      "text/plain": [
       "         PlayerName Games\n",
       "0            Player     G\n",
       "1     Todd Gurley*+    15\n",
       "2    Le'Veon Bell*+    15\n",
       "3      Kareem Hunt*    16\n",
       "4     LeSean McCoy*    16\n",
       "..              ...   ...\n",
       "530    Nick Bellore    13\n",
       "531    Justin Davis     4\n",
       "532      Matt Hazel     4\n",
       "533    Devante Mays     8\n",
       "534   Kyle Williams    16\n",
       "\n",
       "[535 rows x 2 columns]"
      ]
     },
     "execution_count": 158,
     "metadata": {},
     "output_type": "execute_result"
    }
   ],
   "source": [
    "player_data_2013 = player_data_2013[['PlayerName','Games']]\n",
    "player_data_2014 = player_data_2014[['PlayerName','Games']]\n",
    "player_data_2015 = player_data_2015[['PlayerName','Games']]\n",
    "player_data_2016 = player_data_2016[['PlayerName','Games']]\n",
    "player_data_2017 = player_data_2017[['PlayerName','Games']]\n",
    "player_data_2017"
   ]
  },
  {
   "cell_type": "markdown",
   "id": "c3e71089",
   "metadata": {},
   "source": [
    "We will now drop any rows that have a NaN value. This is more specifically common in our NFL Combine data as there are participants who only do certain exercises and not all due to position, injury, etc. However just to make sure we will do the same for the player data as well."
   ]
  },
  {
   "cell_type": "markdown",
   "id": "9c94fc59",
   "metadata": {},
   "source": [
    "NOTE \n",
    "We don't want to use a function like SimpleImputer from Scikit-Learn due to the fact that we don't want to assume what another combine players stats could be just because they are the most frequent"
   ]
  },
  {
   "cell_type": "code",
   "execution_count": 159,
   "id": "c81d63d7",
   "metadata": {},
   "outputs": [
    {
     "data": {
      "text/html": [
       "<div>\n",
       "<style scoped>\n",
       "    .dataframe tbody tr th:only-of-type {\n",
       "        vertical-align: middle;\n",
       "    }\n",
       "\n",
       "    .dataframe tbody tr th {\n",
       "        vertical-align: top;\n",
       "    }\n",
       "\n",
       "    .dataframe thead th {\n",
       "        text-align: right;\n",
       "    }\n",
       "</style>\n",
       "<table border=\"1\" class=\"dataframe\">\n",
       "  <thead>\n",
       "    <tr style=\"text-align: right;\">\n",
       "      <th></th>\n",
       "      <th>Player</th>\n",
       "      <th>40yd</th>\n",
       "      <th>Vertical</th>\n",
       "      <th>Bench</th>\n",
       "      <th>BroadJump</th>\n",
       "      <th>3Cone</th>\n",
       "      <th>Shuttle</th>\n",
       "    </tr>\n",
       "  </thead>\n",
       "  <tbody>\n",
       "    <tr>\n",
       "      <th>0</th>\n",
       "      <td>Jamal Adams</td>\n",
       "      <td>4.56</td>\n",
       "      <td>31.5</td>\n",
       "      <td>18.0</td>\n",
       "      <td>120.0</td>\n",
       "      <td>6.96</td>\n",
       "      <td>4.13</td>\n",
       "    </tr>\n",
       "    <tr>\n",
       "      <th>1</th>\n",
       "      <td>Montravius Adams</td>\n",
       "      <td>4.87</td>\n",
       "      <td>29.0</td>\n",
       "      <td>22.0</td>\n",
       "      <td>108.0</td>\n",
       "      <td>7.62</td>\n",
       "      <td>4.89</td>\n",
       "    </tr>\n",
       "    <tr>\n",
       "      <th>2</th>\n",
       "      <td>Rodney Adams</td>\n",
       "      <td>4.44</td>\n",
       "      <td>29.5</td>\n",
       "      <td>8.0</td>\n",
       "      <td>125.0</td>\n",
       "      <td>6.98</td>\n",
       "      <td>4.28</td>\n",
       "    </tr>\n",
       "    <tr>\n",
       "      <th>3</th>\n",
       "      <td>Quincy Adeboyejo</td>\n",
       "      <td>4.42</td>\n",
       "      <td>34.5</td>\n",
       "      <td>8.0</td>\n",
       "      <td>123.0</td>\n",
       "      <td>6.73</td>\n",
       "      <td>4.14</td>\n",
       "    </tr>\n",
       "    <tr>\n",
       "      <th>4</th>\n",
       "      <td>Brian Allen</td>\n",
       "      <td>4.48</td>\n",
       "      <td>34.5</td>\n",
       "      <td>15.0</td>\n",
       "      <td>117.0</td>\n",
       "      <td>6.64</td>\n",
       "      <td>4.34</td>\n",
       "    </tr>\n",
       "    <tr>\n",
       "      <th>...</th>\n",
       "      <td>...</td>\n",
       "      <td>...</td>\n",
       "      <td>...</td>\n",
       "      <td>...</td>\n",
       "      <td>...</td>\n",
       "      <td>...</td>\n",
       "      <td>...</td>\n",
       "    </tr>\n",
       "    <tr>\n",
       "      <th>316</th>\n",
       "      <td>Marcus Williams</td>\n",
       "      <td>4.56</td>\n",
       "      <td>43.5</td>\n",
       "      <td>14.0</td>\n",
       "      <td>129.0</td>\n",
       "      <td>6.85</td>\n",
       "      <td>4.20</td>\n",
       "    </tr>\n",
       "    <tr>\n",
       "      <th>318</th>\n",
       "      <td>Stanley Williams</td>\n",
       "      <td>4.51</td>\n",
       "      <td>36.0</td>\n",
       "      <td>18.0</td>\n",
       "      <td>121.0</td>\n",
       "      <td>6.86</td>\n",
       "      <td>4.18</td>\n",
       "    </tr>\n",
       "    <tr>\n",
       "      <th>320</th>\n",
       "      <td>Jordan Willis</td>\n",
       "      <td>4.53</td>\n",
       "      <td>39.0</td>\n",
       "      <td>24.0</td>\n",
       "      <td>125.0</td>\n",
       "      <td>6.85</td>\n",
       "      <td>4.28</td>\n",
       "    </tr>\n",
       "    <tr>\n",
       "      <th>323</th>\n",
       "      <td>Quincy Wilson</td>\n",
       "      <td>4.54</td>\n",
       "      <td>32.0</td>\n",
       "      <td>14.0</td>\n",
       "      <td>118.0</td>\n",
       "      <td>6.86</td>\n",
       "      <td>4.02</td>\n",
       "    </tr>\n",
       "    <tr>\n",
       "      <th>325</th>\n",
       "      <td>Xavier Woods</td>\n",
       "      <td>4.54</td>\n",
       "      <td>33.5</td>\n",
       "      <td>19.0</td>\n",
       "      <td>122.0</td>\n",
       "      <td>6.72</td>\n",
       "      <td>4.13</td>\n",
       "    </tr>\n",
       "  </tbody>\n",
       "</table>\n",
       "<p>154 rows × 7 columns</p>\n",
       "</div>"
      ],
      "text/plain": [
       "               Player  40yd  Vertical  Bench  BroadJump  3Cone  Shuttle\n",
       "0         Jamal Adams  4.56      31.5   18.0      120.0   6.96     4.13\n",
       "1    Montravius Adams  4.87      29.0   22.0      108.0   7.62     4.89\n",
       "2        Rodney Adams  4.44      29.5    8.0      125.0   6.98     4.28\n",
       "3    Quincy Adeboyejo  4.42      34.5    8.0      123.0   6.73     4.14\n",
       "4         Brian Allen  4.48      34.5   15.0      117.0   6.64     4.34\n",
       "..                ...   ...       ...    ...        ...    ...      ...\n",
       "316   Marcus Williams  4.56      43.5   14.0      129.0   6.85     4.20\n",
       "318  Stanley Williams  4.51      36.0   18.0      121.0   6.86     4.18\n",
       "320     Jordan Willis  4.53      39.0   24.0      125.0   6.85     4.28\n",
       "323     Quincy Wilson  4.54      32.0   14.0      118.0   6.86     4.02\n",
       "325      Xavier Woods  4.54      33.5   19.0      122.0   6.72     4.13\n",
       "\n",
       "[154 rows x 7 columns]"
      ]
     },
     "execution_count": 159,
     "metadata": {},
     "output_type": "execute_result"
    }
   ],
   "source": [
    "combine_data_2013 = combine_data_2013.dropna()\n",
    "combine_data_2014 = combine_data_2014.dropna()\n",
    "combine_data_2015 = combine_data_2015.dropna()\n",
    "combine_data_2016 = combine_data_2016.dropna()\n",
    "combine_data_2017 = combine_data_2017.dropna()\n",
    "combine_data_2017"
   ]
  },
  {
   "cell_type": "code",
   "execution_count": 160,
   "id": "9ea7150c",
   "metadata": {},
   "outputs": [
    {
     "data": {
      "text/html": [
       "<div>\n",
       "<style scoped>\n",
       "    .dataframe tbody tr th:only-of-type {\n",
       "        vertical-align: middle;\n",
       "    }\n",
       "\n",
       "    .dataframe tbody tr th {\n",
       "        vertical-align: top;\n",
       "    }\n",
       "\n",
       "    .dataframe thead th {\n",
       "        text-align: right;\n",
       "    }\n",
       "</style>\n",
       "<table border=\"1\" class=\"dataframe\">\n",
       "  <thead>\n",
       "    <tr style=\"text-align: right;\">\n",
       "      <th></th>\n",
       "      <th>PlayerName</th>\n",
       "      <th>Games</th>\n",
       "    </tr>\n",
       "  </thead>\n",
       "  <tbody>\n",
       "    <tr>\n",
       "      <th>0</th>\n",
       "      <td>Player</td>\n",
       "      <td>G</td>\n",
       "    </tr>\n",
       "    <tr>\n",
       "      <th>1</th>\n",
       "      <td>Todd Gurley*+</td>\n",
       "      <td>15</td>\n",
       "    </tr>\n",
       "    <tr>\n",
       "      <th>2</th>\n",
       "      <td>Le'Veon Bell*+</td>\n",
       "      <td>15</td>\n",
       "    </tr>\n",
       "    <tr>\n",
       "      <th>3</th>\n",
       "      <td>Kareem Hunt*</td>\n",
       "      <td>16</td>\n",
       "    </tr>\n",
       "    <tr>\n",
       "      <th>4</th>\n",
       "      <td>LeSean McCoy*</td>\n",
       "      <td>16</td>\n",
       "    </tr>\n",
       "    <tr>\n",
       "      <th>...</th>\n",
       "      <td>...</td>\n",
       "      <td>...</td>\n",
       "    </tr>\n",
       "    <tr>\n",
       "      <th>530</th>\n",
       "      <td>Nick Bellore</td>\n",
       "      <td>13</td>\n",
       "    </tr>\n",
       "    <tr>\n",
       "      <th>531</th>\n",
       "      <td>Justin Davis</td>\n",
       "      <td>4</td>\n",
       "    </tr>\n",
       "    <tr>\n",
       "      <th>532</th>\n",
       "      <td>Matt Hazel</td>\n",
       "      <td>4</td>\n",
       "    </tr>\n",
       "    <tr>\n",
       "      <th>533</th>\n",
       "      <td>Devante Mays</td>\n",
       "      <td>8</td>\n",
       "    </tr>\n",
       "    <tr>\n",
       "      <th>534</th>\n",
       "      <td>Kyle Williams</td>\n",
       "      <td>16</td>\n",
       "    </tr>\n",
       "  </tbody>\n",
       "</table>\n",
       "<p>535 rows × 2 columns</p>\n",
       "</div>"
      ],
      "text/plain": [
       "         PlayerName Games\n",
       "0            Player     G\n",
       "1     Todd Gurley*+    15\n",
       "2    Le'Veon Bell*+    15\n",
       "3      Kareem Hunt*    16\n",
       "4     LeSean McCoy*    16\n",
       "..              ...   ...\n",
       "530    Nick Bellore    13\n",
       "531    Justin Davis     4\n",
       "532      Matt Hazel     4\n",
       "533    Devante Mays     8\n",
       "534   Kyle Williams    16\n",
       "\n",
       "[535 rows x 2 columns]"
      ]
     },
     "execution_count": 160,
     "metadata": {},
     "output_type": "execute_result"
    }
   ],
   "source": [
    "player_data_2013 = player_data_2013.dropna()\n",
    "player_data_2014 = player_data_2014.dropna()\n",
    "player_data_2015 = player_data_2015.dropna()\n",
    "player_data_2016 = player_data_2016.dropna()\n",
    "player_data_2017 = player_data_2017.dropna()\n",
    "player_data_2017"
   ]
  },
  {
   "cell_type": "markdown",
   "id": "4aa37dc9",
   "metadata": {},
   "source": [
    "We are now going to try and seperate our data into binary (1- played a snap 0-did not play a snap) in order to tell if a player that participated in the combine every played an NFL snap his rookie year\n",
    "\n",
    "But first we need to remove special characters from players names in the player data DF"
   ]
  },
  {
   "cell_type": "code",
   "execution_count": 161,
   "id": "2a20f0c4",
   "metadata": {},
   "outputs": [],
   "source": [
    "player_data_2013['PlayerName'] = player_data_2013['PlayerName'].replace('[^a-zA-Z ]', '', regex=True)\n",
    "player_data_2014['PlayerName'] = player_data_2014['PlayerName'].replace('[^a-zA-Z ]', '', regex=True)\n",
    "player_data_2015['PlayerName'] = player_data_2015['PlayerName'].replace('[^a-zA-Z ]', '', regex=True)\n",
    "player_data_2016['PlayerName'] = player_data_2016['PlayerName'].replace('[^a-zA-Z ]', '', regex=True)\n",
    "player_data_2017['PlayerName'] = player_data_2017['PlayerName'].replace('[^a-zA-Z ]', '', regex=True)"
   ]
  },
  {
   "cell_type": "code",
   "execution_count": 162,
   "id": "a97ca8b3",
   "metadata": {},
   "outputs": [
    {
     "data": {
      "text/html": [
       "<div>\n",
       "<style scoped>\n",
       "    .dataframe tbody tr th:only-of-type {\n",
       "        vertical-align: middle;\n",
       "    }\n",
       "\n",
       "    .dataframe tbody tr th {\n",
       "        vertical-align: top;\n",
       "    }\n",
       "\n",
       "    .dataframe thead th {\n",
       "        text-align: right;\n",
       "    }\n",
       "</style>\n",
       "<table border=\"1\" class=\"dataframe\">\n",
       "  <thead>\n",
       "    <tr style=\"text-align: right;\">\n",
       "      <th></th>\n",
       "      <th>PlayerName</th>\n",
       "      <th>PlayedGame</th>\n",
       "    </tr>\n",
       "  </thead>\n",
       "  <tbody>\n",
       "    <tr>\n",
       "      <th>0</th>\n",
       "      <td>Oday Aboushi</td>\n",
       "      <td>0</td>\n",
       "    </tr>\n",
       "    <tr>\n",
       "      <th>1</th>\n",
       "      <td>Robert Alford</td>\n",
       "      <td>0</td>\n",
       "    </tr>\n",
       "    <tr>\n",
       "      <th>2</th>\n",
       "      <td>C.J. Anderson</td>\n",
       "      <td>0</td>\n",
       "    </tr>\n",
       "    <tr>\n",
       "      <th>3</th>\n",
       "      <td>Ziggy Ansah</td>\n",
       "      <td>0</td>\n",
       "    </tr>\n",
       "    <tr>\n",
       "      <th>4</th>\n",
       "      <td>Marc Anthony</td>\n",
       "      <td>0</td>\n",
       "    </tr>\n",
       "    <tr>\n",
       "      <th>...</th>\n",
       "      <td>...</td>\n",
       "      <td>...</td>\n",
       "    </tr>\n",
       "    <tr>\n",
       "      <th>156</th>\n",
       "      <td>Marquess Wilson</td>\n",
       "      <td>1</td>\n",
       "    </tr>\n",
       "    <tr>\n",
       "      <th>157</th>\n",
       "      <td>Robert Woods</td>\n",
       "      <td>1</td>\n",
       "    </tr>\n",
       "    <tr>\n",
       "      <th>158</th>\n",
       "      <td>Khalid Wooten</td>\n",
       "      <td>0</td>\n",
       "    </tr>\n",
       "    <tr>\n",
       "      <th>159</th>\n",
       "      <td>Tom Wort</td>\n",
       "      <td>0</td>\n",
       "    </tr>\n",
       "    <tr>\n",
       "      <th>160</th>\n",
       "      <td>Blidi Wreh-Wilson</td>\n",
       "      <td>0</td>\n",
       "    </tr>\n",
       "  </tbody>\n",
       "</table>\n",
       "<p>161 rows × 2 columns</p>\n",
       "</div>"
      ],
      "text/plain": [
       "            PlayerName  PlayedGame\n",
       "0         Oday Aboushi           0\n",
       "1        Robert Alford           0\n",
       "2        C.J. Anderson           0\n",
       "3          Ziggy Ansah           0\n",
       "4         Marc Anthony           0\n",
       "..                 ...         ...\n",
       "156    Marquess Wilson           1\n",
       "157       Robert Woods           1\n",
       "158      Khalid Wooten           0\n",
       "159           Tom Wort           0\n",
       "160  Blidi Wreh-Wilson           0\n",
       "\n",
       "[161 rows x 2 columns]"
      ]
     },
     "execution_count": 162,
     "metadata": {},
     "output_type": "execute_result"
    }
   ],
   "source": [
    "played_game_2013 = pd.merge(combine_data_2013[['Player']], player_data_2013[['PlayerName', 'Games']], how='left', left_on='Player', right_on='PlayerName').fillna(0)\n",
    "played_game_2013['PlayedGame'] = (pd.to_numeric(played_game_2013['Games'], errors='coerce') > 0).astype(int)\n",
    "played_game_2013 = played_game_2013[['Player', 'PlayedGame']].rename(columns={'Player': 'PlayerName'})\n",
    "\n",
    "played_game_2014 = pd.merge(combine_data_2014[['Player']], player_data_2014[['PlayerName', 'Games']], how='left', left_on='Player', right_on='PlayerName').fillna(0)\n",
    "played_game_2014['PlayedGame'] = (pd.to_numeric(played_game_2014['Games'], errors='coerce') > 0).astype(int)\n",
    "played_game_2014 = played_game_2014[['Player', 'PlayedGame']].rename(columns={'Player': 'PlayerName'})\n",
    "\n",
    "played_game_2015 = pd.merge(combine_data_2015[['Player']], player_data_2015[['PlayerName', 'Games']], how='left', left_on='Player', right_on='PlayerName').fillna(0)\n",
    "played_game_2015['PlayedGame'] = (pd.to_numeric(played_game_2015['Games'], errors='coerce') > 0).astype(int)\n",
    "played_game_2015 = played_game_2015[['Player', 'PlayedGame']].rename(columns={'Player': 'PlayerName'})\n",
    "\n",
    "played_game_2016 = pd.merge(combine_data_2016[['Player']], player_data_2016[['PlayerName', 'Games']], how='left', left_on='Player', right_on='PlayerName').fillna(0)\n",
    "played_game_2016['PlayedGame'] = (pd.to_numeric(played_game_2016['Games'], errors='coerce') > 0).astype(int)\n",
    "played_game_2016 = played_game_2016[['Player', 'PlayedGame']].rename(columns={'Player': 'PlayerName'})\n",
    "\n",
    "played_game_2017 = pd.merge(combine_data_2017[['Player']], player_data_2017[['PlayerName', 'Games']], how='left', left_on='Player', right_on='PlayerName').fillna(0)\n",
    "played_game_2017['PlayedGame'] = (pd.to_numeric(played_game_2017['Games'], errors='coerce') > 0).astype(int)\n",
    "played_game_2017 = played_game_2017[['Player', 'PlayedGame']].rename(columns={'Player': 'PlayerName'})\n",
    "played_game_2013"
   ]
  },
  {
   "cell_type": "markdown",
   "id": "5c888acd",
   "metadata": {},
   "source": [
    "Now we will combine the PlayedGame column with our in our played_game_xxxx dataframe with our combine_data_xxxx dataframe based on the Players Name"
   ]
  },
  {
   "cell_type": "code",
   "execution_count": 163,
   "id": "f0648576",
   "metadata": {},
   "outputs": [
    {
     "data": {
      "text/html": [
       "<div>\n",
       "<style scoped>\n",
       "    .dataframe tbody tr th:only-of-type {\n",
       "        vertical-align: middle;\n",
       "    }\n",
       "\n",
       "    .dataframe tbody tr th {\n",
       "        vertical-align: top;\n",
       "    }\n",
       "\n",
       "    .dataframe thead th {\n",
       "        text-align: right;\n",
       "    }\n",
       "</style>\n",
       "<table border=\"1\" class=\"dataframe\">\n",
       "  <thead>\n",
       "    <tr style=\"text-align: right;\">\n",
       "      <th></th>\n",
       "      <th>Player</th>\n",
       "      <th>40yd</th>\n",
       "      <th>Vertical</th>\n",
       "      <th>Bench</th>\n",
       "      <th>BroadJump</th>\n",
       "      <th>3Cone</th>\n",
       "      <th>Shuttle</th>\n",
       "      <th>Games</th>\n",
       "      <th>PlayedGame</th>\n",
       "    </tr>\n",
       "  </thead>\n",
       "  <tbody>\n",
       "    <tr>\n",
       "      <th>0</th>\n",
       "      <td>Oday Aboushi</td>\n",
       "      <td>5.41</td>\n",
       "      <td>23.5</td>\n",
       "      <td>17.0</td>\n",
       "      <td>100.0</td>\n",
       "      <td>7.92</td>\n",
       "      <td>4.84</td>\n",
       "      <td>0</td>\n",
       "      <td>0</td>\n",
       "    </tr>\n",
       "    <tr>\n",
       "      <th>1</th>\n",
       "      <td>Robert Alford</td>\n",
       "      <td>4.39</td>\n",
       "      <td>40.0</td>\n",
       "      <td>17.0</td>\n",
       "      <td>132.0</td>\n",
       "      <td>6.89</td>\n",
       "      <td>4.23</td>\n",
       "      <td>0</td>\n",
       "      <td>0</td>\n",
       "    </tr>\n",
       "    <tr>\n",
       "      <th>2</th>\n",
       "      <td>C.J. Anderson</td>\n",
       "      <td>4.60</td>\n",
       "      <td>32.0</td>\n",
       "      <td>17.0</td>\n",
       "      <td>119.0</td>\n",
       "      <td>7.15</td>\n",
       "      <td>4.12</td>\n",
       "      <td>0</td>\n",
       "      <td>0</td>\n",
       "    </tr>\n",
       "    <tr>\n",
       "      <th>3</th>\n",
       "      <td>Ziggy Ansah</td>\n",
       "      <td>4.56</td>\n",
       "      <td>34.5</td>\n",
       "      <td>21.0</td>\n",
       "      <td>118.0</td>\n",
       "      <td>7.11</td>\n",
       "      <td>4.26</td>\n",
       "      <td>0</td>\n",
       "      <td>0</td>\n",
       "    </tr>\n",
       "    <tr>\n",
       "      <th>4</th>\n",
       "      <td>Marc Anthony</td>\n",
       "      <td>4.63</td>\n",
       "      <td>35.0</td>\n",
       "      <td>12.0</td>\n",
       "      <td>118.0</td>\n",
       "      <td>6.74</td>\n",
       "      <td>4.07</td>\n",
       "      <td>0</td>\n",
       "      <td>0</td>\n",
       "    </tr>\n",
       "    <tr>\n",
       "      <th>...</th>\n",
       "      <td>...</td>\n",
       "      <td>...</td>\n",
       "      <td>...</td>\n",
       "      <td>...</td>\n",
       "      <td>...</td>\n",
       "      <td>...</td>\n",
       "      <td>...</td>\n",
       "      <td>...</td>\n",
       "      <td>...</td>\n",
       "    </tr>\n",
       "    <tr>\n",
       "      <th>795</th>\n",
       "      <td>Marcus Williams</td>\n",
       "      <td>4.56</td>\n",
       "      <td>43.5</td>\n",
       "      <td>14.0</td>\n",
       "      <td>129.0</td>\n",
       "      <td>6.85</td>\n",
       "      <td>4.20</td>\n",
       "      <td>15</td>\n",
       "      <td>1</td>\n",
       "    </tr>\n",
       "    <tr>\n",
       "      <th>796</th>\n",
       "      <td>Stanley Williams</td>\n",
       "      <td>4.51</td>\n",
       "      <td>36.0</td>\n",
       "      <td>18.0</td>\n",
       "      <td>121.0</td>\n",
       "      <td>6.86</td>\n",
       "      <td>4.18</td>\n",
       "      <td>0</td>\n",
       "      <td>0</td>\n",
       "    </tr>\n",
       "    <tr>\n",
       "      <th>797</th>\n",
       "      <td>Jordan Willis</td>\n",
       "      <td>4.53</td>\n",
       "      <td>39.0</td>\n",
       "      <td>24.0</td>\n",
       "      <td>125.0</td>\n",
       "      <td>6.85</td>\n",
       "      <td>4.28</td>\n",
       "      <td>0</td>\n",
       "      <td>0</td>\n",
       "    </tr>\n",
       "    <tr>\n",
       "      <th>798</th>\n",
       "      <td>Quincy Wilson</td>\n",
       "      <td>4.54</td>\n",
       "      <td>32.0</td>\n",
       "      <td>14.0</td>\n",
       "      <td>118.0</td>\n",
       "      <td>6.86</td>\n",
       "      <td>4.02</td>\n",
       "      <td>0</td>\n",
       "      <td>0</td>\n",
       "    </tr>\n",
       "    <tr>\n",
       "      <th>799</th>\n",
       "      <td>Xavier Woods</td>\n",
       "      <td>4.54</td>\n",
       "      <td>33.5</td>\n",
       "      <td>19.0</td>\n",
       "      <td>122.0</td>\n",
       "      <td>6.72</td>\n",
       "      <td>4.13</td>\n",
       "      <td>0</td>\n",
       "      <td>0</td>\n",
       "    </tr>\n",
       "  </tbody>\n",
       "</table>\n",
       "<p>800 rows × 9 columns</p>\n",
       "</div>"
      ],
      "text/plain": [
       "               Player  40yd  Vertical  Bench  BroadJump  3Cone  Shuttle  \\\n",
       "0        Oday Aboushi  5.41      23.5   17.0      100.0   7.92     4.84   \n",
       "1       Robert Alford  4.39      40.0   17.0      132.0   6.89     4.23   \n",
       "2       C.J. Anderson  4.60      32.0   17.0      119.0   7.15     4.12   \n",
       "3         Ziggy Ansah  4.56      34.5   21.0      118.0   7.11     4.26   \n",
       "4        Marc Anthony  4.63      35.0   12.0      118.0   6.74     4.07   \n",
       "..                ...   ...       ...    ...        ...    ...      ...   \n",
       "795   Marcus Williams  4.56      43.5   14.0      129.0   6.85     4.20   \n",
       "796  Stanley Williams  4.51      36.0   18.0      121.0   6.86     4.18   \n",
       "797     Jordan Willis  4.53      39.0   24.0      125.0   6.85     4.28   \n",
       "798     Quincy Wilson  4.54      32.0   14.0      118.0   6.86     4.02   \n",
       "799      Xavier Woods  4.54      33.5   19.0      122.0   6.72     4.13   \n",
       "\n",
       "     Games  PlayedGame  \n",
       "0        0           0  \n",
       "1        0           0  \n",
       "2        0           0  \n",
       "3        0           0  \n",
       "4        0           0  \n",
       "..     ...         ...  \n",
       "795     15           1  \n",
       "796      0           0  \n",
       "797      0           0  \n",
       "798      0           0  \n",
       "799      0           0  \n",
       "\n",
       "[800 rows x 9 columns]"
      ]
     },
     "execution_count": 163,
     "metadata": {},
     "output_type": "execute_result"
    }
   ],
   "source": [
    "merged_player_data_2013 = pd.merge(combine_data_2013, player_data_2013, how='left', left_on='Player', right_on='PlayerName')\n",
    "merged_player_data_2013 = pd.merge(merged_player_data_2013, played_game_2013, how='left', left_on='Player', right_on='PlayerName')\n",
    "merged_player_data_2013['Games'] = merged_player_data_2013['Games'].fillna(0)\n",
    "merged_player_data_2013['Games'] = pd.to_numeric(merged_player_data_2013['Games'], errors='coerce')\n",
    "merged_player_data_2013['PlayedGame'] = merged_player_data_2013['Games'].apply(lambda x: 1 if x > 0 else 0)\n",
    "merged_player_data_2013 = merged_player_data_2013.drop(['PlayerName_x','PlayerName_y'],axis=1)\n",
    "\n",
    "merged_player_data_2014 = pd.merge(combine_data_2014, player_data_2014, how='left', left_on='Player', right_on='PlayerName')\n",
    "merged_player_data_2014 = pd.merge(merged_player_data_2014, played_game_2014, how='left', left_on='Player', right_on='PlayerName')\n",
    "merged_player_data_2014['Games'] = merged_player_data_2014['Games'].fillna(0)\n",
    "merged_player_data_2014['Games'] = pd.to_numeric(merged_player_data_2014['Games'], errors='coerce')\n",
    "merged_player_data_2014['PlayedGame'] = merged_player_data_2014['Games'].apply(lambda x: 1 if x > 0 else 0)\n",
    "merged_player_data_2014 = merged_player_data_2014.drop(['PlayerName_x','PlayerName_y'],axis=1)\n",
    "\n",
    "merged_player_data_2015 = pd.merge(combine_data_2015, player_data_2015, how='left', left_on='Player', right_on='PlayerName')\n",
    "merged_player_data_2015 = pd.merge(merged_player_data_2015, played_game_2015, how='left', left_on='Player', right_on='PlayerName')\n",
    "merged_player_data_2015['Games'] = merged_player_data_2015['Games'].fillna(0)\n",
    "merged_player_data_2015['Games'] = pd.to_numeric(merged_player_data_2015['Games'], errors='coerce')\n",
    "merged_player_data_2015['PlayedGame'] = merged_player_data_2015['Games'].apply(lambda x: 1 if x > 0 else 0)\n",
    "merged_player_data_2015 = merged_player_data_2015.drop(['PlayerName_x','PlayerName_y'],axis=1)\n",
    "\n",
    "merged_player_data_2016 = pd.merge(combine_data_2016, player_data_2016, how='left', left_on='Player', right_on='PlayerName')\n",
    "merged_player_data_2016 = pd.merge(merged_player_data_2016, played_game_2016, how='left', left_on='Player', right_on='PlayerName')\n",
    "merged_player_data_2016['Games'] = merged_player_data_2016['Games'].fillna(0)\n",
    "merged_player_data_2016['Games'] = pd.to_numeric(merged_player_data_2016['Games'], errors='coerce')\n",
    "merged_player_data_2016['PlayedGame'] = merged_player_data_2016['Games'].apply(lambda x: 1 if x > 0 else 0)\n",
    "merged_player_data_2016 = merged_player_data_2016.drop(['PlayerName_x','PlayerName_y'],axis=1)\n",
    "\n",
    "merged_player_data_2017 = pd.merge(combine_data_2017, player_data_2017, how='left', left_on='Player', right_on='PlayerName')\n",
    "merged_player_data_2017 = pd.merge(merged_player_data_2017, played_game_2017, how='left', left_on='Player', right_on='PlayerName')\n",
    "merged_player_data_2017['Games'] = merged_player_data_2017['Games'].fillna(0)\n",
    "merged_player_data_2017['Games'] = pd.to_numeric(merged_player_data_2017['Games'], errors='coerce')\n",
    "merged_player_data_2017['PlayedGame'] = merged_player_data_2017['Games'].apply(lambda x: 1 if x > 0 else 0)\n",
    "merged_player_data_2017 = merged_player_data_2017.drop(['PlayerName_x','PlayerName_y'],axis=1)\n",
    "\n",
    "\n",
    "merged_player_data = pd.concat([merged_player_data_2013,merged_player_data_2014,merged_player_data_2015,merged_player_data_2016 ,merged_player_data_2017], axis=0, ignore_index=True)\n",
    "merged_player_data"
   ]
  },
  {
   "cell_type": "code",
   "execution_count": 164,
   "id": "19a194f5",
   "metadata": {},
   "outputs": [
    {
     "data": {
      "text/html": [
       "<div>\n",
       "<style scoped>\n",
       "    .dataframe tbody tr th:only-of-type {\n",
       "        vertical-align: middle;\n",
       "    }\n",
       "\n",
       "    .dataframe tbody tr th {\n",
       "        vertical-align: top;\n",
       "    }\n",
       "\n",
       "    .dataframe thead th {\n",
       "        text-align: right;\n",
       "    }\n",
       "</style>\n",
       "<table border=\"1\" class=\"dataframe\">\n",
       "  <thead>\n",
       "    <tr style=\"text-align: right;\">\n",
       "      <th></th>\n",
       "      <th>40yd</th>\n",
       "      <th>Vertical</th>\n",
       "      <th>Bench</th>\n",
       "      <th>BroadJump</th>\n",
       "      <th>3Cone</th>\n",
       "      <th>Shuttle</th>\n",
       "    </tr>\n",
       "  </thead>\n",
       "  <tbody>\n",
       "    <tr>\n",
       "      <th>0</th>\n",
       "      <td>5.41</td>\n",
       "      <td>23.5</td>\n",
       "      <td>17.0</td>\n",
       "      <td>100.0</td>\n",
       "      <td>7.92</td>\n",
       "      <td>4.84</td>\n",
       "    </tr>\n",
       "    <tr>\n",
       "      <th>1</th>\n",
       "      <td>4.39</td>\n",
       "      <td>40.0</td>\n",
       "      <td>17.0</td>\n",
       "      <td>132.0</td>\n",
       "      <td>6.89</td>\n",
       "      <td>4.23</td>\n",
       "    </tr>\n",
       "    <tr>\n",
       "      <th>2</th>\n",
       "      <td>4.60</td>\n",
       "      <td>32.0</td>\n",
       "      <td>17.0</td>\n",
       "      <td>119.0</td>\n",
       "      <td>7.15</td>\n",
       "      <td>4.12</td>\n",
       "    </tr>\n",
       "    <tr>\n",
       "      <th>3</th>\n",
       "      <td>4.56</td>\n",
       "      <td>34.5</td>\n",
       "      <td>21.0</td>\n",
       "      <td>118.0</td>\n",
       "      <td>7.11</td>\n",
       "      <td>4.26</td>\n",
       "    </tr>\n",
       "    <tr>\n",
       "      <th>4</th>\n",
       "      <td>4.63</td>\n",
       "      <td>35.0</td>\n",
       "      <td>12.0</td>\n",
       "      <td>118.0</td>\n",
       "      <td>6.74</td>\n",
       "      <td>4.07</td>\n",
       "    </tr>\n",
       "    <tr>\n",
       "      <th>...</th>\n",
       "      <td>...</td>\n",
       "      <td>...</td>\n",
       "      <td>...</td>\n",
       "      <td>...</td>\n",
       "      <td>...</td>\n",
       "      <td>...</td>\n",
       "    </tr>\n",
       "    <tr>\n",
       "      <th>795</th>\n",
       "      <td>4.56</td>\n",
       "      <td>43.5</td>\n",
       "      <td>14.0</td>\n",
       "      <td>129.0</td>\n",
       "      <td>6.85</td>\n",
       "      <td>4.20</td>\n",
       "    </tr>\n",
       "    <tr>\n",
       "      <th>796</th>\n",
       "      <td>4.51</td>\n",
       "      <td>36.0</td>\n",
       "      <td>18.0</td>\n",
       "      <td>121.0</td>\n",
       "      <td>6.86</td>\n",
       "      <td>4.18</td>\n",
       "    </tr>\n",
       "    <tr>\n",
       "      <th>797</th>\n",
       "      <td>4.53</td>\n",
       "      <td>39.0</td>\n",
       "      <td>24.0</td>\n",
       "      <td>125.0</td>\n",
       "      <td>6.85</td>\n",
       "      <td>4.28</td>\n",
       "    </tr>\n",
       "    <tr>\n",
       "      <th>798</th>\n",
       "      <td>4.54</td>\n",
       "      <td>32.0</td>\n",
       "      <td>14.0</td>\n",
       "      <td>118.0</td>\n",
       "      <td>6.86</td>\n",
       "      <td>4.02</td>\n",
       "    </tr>\n",
       "    <tr>\n",
       "      <th>799</th>\n",
       "      <td>4.54</td>\n",
       "      <td>33.5</td>\n",
       "      <td>19.0</td>\n",
       "      <td>122.0</td>\n",
       "      <td>6.72</td>\n",
       "      <td>4.13</td>\n",
       "    </tr>\n",
       "  </tbody>\n",
       "</table>\n",
       "<p>800 rows × 6 columns</p>\n",
       "</div>"
      ],
      "text/plain": [
       "     40yd  Vertical  Bench  BroadJump  3Cone  Shuttle\n",
       "0    5.41      23.5   17.0      100.0   7.92     4.84\n",
       "1    4.39      40.0   17.0      132.0   6.89     4.23\n",
       "2    4.60      32.0   17.0      119.0   7.15     4.12\n",
       "3    4.56      34.5   21.0      118.0   7.11     4.26\n",
       "4    4.63      35.0   12.0      118.0   6.74     4.07\n",
       "..    ...       ...    ...        ...    ...      ...\n",
       "795  4.56      43.5   14.0      129.0   6.85     4.20\n",
       "796  4.51      36.0   18.0      121.0   6.86     4.18\n",
       "797  4.53      39.0   24.0      125.0   6.85     4.28\n",
       "798  4.54      32.0   14.0      118.0   6.86     4.02\n",
       "799  4.54      33.5   19.0      122.0   6.72     4.13\n",
       "\n",
       "[800 rows x 6 columns]"
      ]
     },
     "execution_count": 164,
     "metadata": {},
     "output_type": "execute_result"
    }
   ],
   "source": [
    "T = merged_player_data['PlayedGame']\n",
    "X = merged_player_data.loc[:, (merged_player_data.columns != \"PlayedGame\") & (merged_player_data.columns != \"Player\") & (merged_player_data.columns != \"Games\")]\n",
    "X"
   ]
  },
  {
   "cell_type": "code",
   "execution_count": 165,
   "id": "09a4e168",
   "metadata": {},
   "outputs": [
    {
     "name": "stdout",
     "output_type": "stream",
     "text": [
      "(800, 6) (640, 6) (160, 6) (640,) (160,)\n"
     ]
    }
   ],
   "source": [
    "from sklearn.model_selection import train_test_split\n",
    "X_train, X_test, t_train, t_test = train_test_split(X, T, test_size = .20, random_state = 0)\n",
    "\n",
    "\n",
    "print(X.shape, X_train.shape, X_test.shape, t_train.shape, t_test.shape)"
   ]
  },
  {
   "cell_type": "code",
   "execution_count": 166,
   "id": "3a8c734b",
   "metadata": {},
   "outputs": [
    {
     "name": "stdout",
     "output_type": "stream",
     "text": [
      "Test score:  0.06477971861509912\n"
     ]
    }
   ],
   "source": [
    "#Calculate R^2 Value\n",
    "from sklearn.linear_model import LinearRegression\n",
    "\n",
    "np.random.seed(0)\n",
    "\n",
    "# 1) initialize\n",
    "model = LinearRegression()\n",
    "\n",
    "# 2) train the model\n",
    "model.fit(X_train, t_train)\n",
    "\n",
    "# 3) evaluate\n",
    "test_score = model.score(X_test,t_test)\n",
    "\n",
    "print(\"Test score: \", test_score)"
   ]
  },
  {
   "cell_type": "markdown",
   "id": "1caba12f",
   "metadata": {},
   "source": [
    "Using a simple Linear Regression model it appears that our R^2 value is not very promising as we scored worse than a simple meaning model(score<0)\n",
    "\n",
    "Note that a score of 1 would be perfect\n",
    "\n",
    "lets see what this looks like when plotted"
   ]
  },
  {
   "cell_type": "code",
   "execution_count": 167,
   "id": "598efb76",
   "metadata": {},
   "outputs": [
    {
     "name": "stdout",
     "output_type": "stream",
     "text": [
      "(160,)\n"
     ]
    },
    {
     "data": {
      "image/png": "[encoded data removed]",
      "text/plain": [
       "<Figure size 432x288 with 1 Axes>"
      ]
     },
     "metadata": {
      "needs_background": "light"
     },
     "output_type": "display_data"
    }
   ],
   "source": [
    "import matplotlib.pyplot as plt \n",
    "\n",
    "y=model.predict(X_test)\n",
    "\n",
    "plt.scatter(t_test, y)\n",
    "\n",
    "\n",
    "\n",
    "# dashed diagonal line\n",
    "plt.plot([0,2], [-2,2], 'r--')\n",
    "# x and y labels\n",
    "plt.xlabel(\"target\")\n",
    "plt.ylabel(\"predicted\")\n",
    "\n",
    "print(y.shape)"
   ]
  },
  {
   "cell_type": "code",
   "execution_count": 168,
   "id": "4e0e1262",
   "metadata": {},
   "outputs": [
    {
     "name": "stdout",
     "output_type": "stream",
     "text": [
      "Root Mean Squared Error (RMSE): 0.351134792587394\n"
     ]
    }
   ],
   "source": [
    "from sklearn.metrics import mean_squared_error\n",
    "predictions = model.predict(X_test)\n",
    "\n",
    "rmse = np.sqrt(mean_squared_error(t_test, predictions))\n",
    "\n",
    "print(\"Root Mean Squared Error (RMSE):\", rmse)"
   ]
  },
  {
   "cell_type": "markdown",
   "id": "75db2004",
   "metadata": {},
   "source": [
    "This model also does not seem to measure Root Mean Squared Error very well either as it is being tested against binary values 1 - played a game or 0 - did not play a game. Therefore for this to be a fairly accurate model it needs to be much closer to 0."
   ]
  },
  {
   "cell_type": "markdown",
   "id": "192e31bc",
   "metadata": {},
   "source": [
    "Lets try taking a different approach. "
   ]
  },
  {
   "cell_type": "markdown",
   "id": "f3523c72",
   "metadata": {},
   "source": [
    "Now we will try the five models proposed in the paper our research is based off of \"NFL Career Success as Predicted by NFL Scouting Combine\"\n",
    "These models will be as follows\n",
    "Support Vector Machine\n",
    "Gradient Boosting\n",
    "Random Forest Decision Tree\n",
    "Multivariate Linear Regression\n",
    "Decision Tree"
   ]
  },
  {
   "cell_type": "markdown",
   "id": "6c2ee4d6",
   "metadata": {},
   "source": [
    "Support Vector Machine (come back to getting weird error)"
   ]
  },
  {
   "cell_type": "code",
   "execution_count": 169,
   "id": "06954364",
   "metadata": {},
   "outputs": [],
   "source": [
    "from sklearn.svm import SVC\n",
    "from sklearn.metrics import accuracy_score\n",
    "\n",
    "#parameters for SVC\n",
    "# C - float - positive float\n",
    "# Regularization parameter. The strength of the regularization is inversely proportional to C. Must be strictly positive.\n",
    "# kernel - {'linear', 'poly', 'rbf', 'sigmoid', 'precomputed'} - default: 'rbf'\n",
    "# Specifies the kernel type to be used in the algorithm. 'linear' uses a linear kernel, 'poly' uses a polynomial kernel, 'rbf' uses a radial basis function kernel, and 'sigmoid' uses a sigmoid kernel.\n",
    "# degree - int - positive integer - applicable only to 'poly' kernel\n",
    "# Degree of the polynomial kernel function ('poly'). Ignored by all other kernels.\n",
    "# gamma - {'scale', 'auto'} or float - positive float - applicable to 'rbf', 'poly', and 'sigmoid' kernels\n",
    "# Kernel coefficient for 'rbf', 'poly', and 'sigmoid'. If 'scale' is selected, it is calculated as 1 / (n_features * X.var()) and if 'auto', it uses 1 / n_features.\n",
    "# probability - bool - True or False\n",
    "# Whether to enable probability estimates. This must be enabled prior to calling `fit`, and it slows down the training process.\n",
    "\n",
    "#create Support Vector Machine classifier\n",
    "svm_classifier = SVC()\n",
    "\n"
   ]
  },
  {
   "cell_type": "markdown",
   "id": "6261b756",
   "metadata": {},
   "source": [
    "Gradient Boosting"
   ]
  },
  {
   "cell_type": "code",
   "execution_count": 170,
   "id": "01237889",
   "metadata": {},
   "outputs": [],
   "source": [
    "from sklearn.ensemble import GradientBoostingClassifier\n",
    "\n",
    "#paramters for GradientBoostingClassifier\n",
    "# n_estimators - int - positive integer\n",
    "# The number of boosting stages to be run. It represents the number of weak learners (trees) to train.\n",
    "# learning_rate - float - (0.0, 1.0]\n",
    "# The step size shrinkage used to prevent overfitting. Lower values make the model more robust but require more trees.]\n",
    "# max_depth - int or None - positive integer or None\n",
    "# The maximum depth of the individual trees. Higher values can lead to overfitting.\n",
    "# subsample - float - (0.0, 1.0]\n",
    "# The fraction of samples used for fitting the individual base learners. Can prevent overfitting.\n",
    "\n",
    "#create gradient boosting classifier\n",
    "gb_classifier = GradientBoostingClassifier()\n",
    "\n"
   ]
  },
  {
   "cell_type": "markdown",
   "id": "04bbb49d",
   "metadata": {},
   "source": [
    "Random Forest Decision Tree"
   ]
  },
  {
   "cell_type": "code",
   "execution_count": 171,
   "id": "d2848ad6",
   "metadata": {},
   "outputs": [],
   "source": [
    "from sklearn.ensemble import RandomForestClassifier\n",
    "\n",
    "#parameters for RandomForestClassifier\n",
    "# n_estimators - int - positive integer\n",
    "# The number of trees in the forest. It represents the number of base learners to train.\n",
    "# max_depth - int or None - positive integer or None\n",
    "# The maximum depth of the individual trees. Higher values can lead to overfitting.\n",
    "# min_samples_split - int or float - positive integer or float (0.0, 1.0]\n",
    "# The minimum number of samples required to split an internal node. If float, it represents the fraction of total samples.\n",
    "# min_samples_leaf - int or float - positive integer or float (0.0, 1.0]\n",
    "# The minimum number of samples required to be at a leaf node. If float, it represents the fraction of total samples.\n",
    "\n",
    "#create random forest decision tree classifier\n",
    "rf_classifier = RandomForestClassifier()\n"
   ]
  },
  {
   "cell_type": "markdown",
   "id": "28c217c5",
   "metadata": {},
   "source": [
    "Multivariate Linear Regression"
   ]
  },
  {
   "cell_type": "code",
   "execution_count": 172,
   "id": "36c211aa",
   "metadata": {},
   "outputs": [],
   "source": [
    "from sklearn.linear_model import LinearRegression\n",
    "\n",
    "#parameters for LinearRegression\n",
    "# fit_intercept - bool - True or False\n",
    "# Whether to calculate the intercept for this model. If False, the model is forced to pass through the origin.\n",
    "# normalize - bool - True or False\n",
    "# If True, the regressors (features) will be normalized before regression. Useful when the magnitudes of variables differ significantly.\n",
    "# n_jobs - int - integer or None\n",
    "# The number of jobs to use for the computation. Set to -1 to use all available processors. Useful for large datasets.\n",
    "# positive - bool - True or False\n",
    "# When set to True, forces the coefficients to be positive. Useful when you have prior knowledge that the relationship is expected to be positive.\n",
    "\n",
    "#create linear regression classifier\n",
    "linear_model = LinearRegression()"
   ]
  },
  {
   "cell_type": "markdown",
   "id": "d5c94511",
   "metadata": {},
   "source": [
    "Decision Tree"
   ]
  },
  {
   "cell_type": "code",
   "execution_count": 173,
   "id": "b8dcde47",
   "metadata": {},
   "outputs": [],
   "source": [
    "from sklearn.tree import DecisionTreeClassifier\n",
    "from sklearn.metrics import mean_squared_error\n",
    "\n",
    "# criterion - {'mse', 'friedman_mse', 'mae'} - default: 'mse'\n",
    "# The function to measure the quality of a split. 'mse' is mean squared error, 'friedman_mse' is mean squared error with Friedman's improvement, and 'mae' is mean absolute error.\n",
    "# max_depth - int - positive integer or None\n",
    "# The maximum depth of the tree. Higher values can lead to overfitting.\n",
    "# min_samples_split - int or float - positive integer or float (0.0, 1.0]\n",
    "# The minimum number of samples required to split an internal node. If float, it represents the fraction of total samples.\n",
    "# min_samples_leaf - int or float - positive integer or float (0.0, 1.0]\n",
    "# The minimum number of samples required to be at a leaf node. If float, it represents the fraction of total samples.\n",
    "# random_state - int, RandomState instance, or None\n",
    "# Controls the randomness of the estimator. If int, it fixes the seed; if RandomState instance, it uses it; if None, randomness is determined by the RNG.\n",
    "\n",
    "#crate decision tree classifier\n",
    "tree_regressor = DecisionTreeClassifier()\n"
   ]
  },
  {
   "cell_type": "markdown",
   "id": "8df0c98d",
   "metadata": {},
   "source": [
    "Models not included in paper but want to consider to due high rate of probability classification with binary target values from personal research"
   ]
  },
  {
   "cell_type": "markdown",
   "id": "5bc317d6",
   "metadata": {},
   "source": [
    "Logistic Regression"
   ]
  },
  {
   "cell_type": "code",
   "execution_count": 174,
   "id": "df1ccb09",
   "metadata": {},
   "outputs": [],
   "source": [
    "from sklearn.linear_model import LogisticRegression\n",
    "\n",
    "#paramters that can be passed into LogisticRegression\n",
    "# penalty - {'l1', 'l2', 'elasticnet', 'none'} - default: 'l2'\n",
    "# Used to specify the norm used in the penalization. 'l1' and 'l2' are regularization terms, 'elasticnet' is a combination of both, and 'none' applies no regularization.\n",
    "# C - float - positive float\n",
    "# Inverse of regularization strength; smaller values specify stronger regularization. A lower C increases the regularization strength.\n",
    "# max_iter - int - positive integer\n",
    "# Maximum number of iterations for the solver to converge.\n",
    "# solver - {'newton-cg', 'lbfgs', 'liblinear', 'sag', 'saga'} - default: 'lbfgs'\n",
    "# Algorithm to use in the optimization problem. 'liblinear' is suitable for small datasets, 'lbfgs' and 'newton-cg' handle multinomial loss, 'sag' uses stochastic average gradient descent, and 'saga' is a variant of 'sag'.\n",
    "\n",
    "#create logistic regression classifier\n",
    "lr = LogisticRegression(max_iter=1000)\n"
   ]
  },
  {
   "cell_type": "markdown",
   "id": "926b7299",
   "metadata": {},
   "source": [
    "k-Nearest Neighbors"
   ]
  },
  {
   "cell_type": "code",
   "execution_count": 175,
   "id": "7aa26772",
   "metadata": {},
   "outputs": [],
   "source": [
    "from sklearn.neighbors import KNeighborsClassifier\n",
    "\n",
    "\n",
    "#parameters that can be passed into KNeighborsClassifier\n",
    "# n_neighbors - int - positive integer\n",
    "# Number of neighbors to use for kneighbors queries. It defines the number of nearest neighbors considered when making predictions.\n",
    "# weights - {'uniform', 'distance'} - default: 'uniform'\n",
    "# Weight function used in prediction. 'uniform' assigns equal weights to all neighbors, while 'distance' assigns weights based on the inverse of the distance.\n",
    "# algorithm - {'auto', 'ball_tree', 'kd_tree', 'brute'} - default: 'auto'\n",
    "# Algorithm used to compute the nearest neighbors. 'auto' automatically selects the most appropriate algorithm based on the input data.\n",
    "# p - int - 1 or 2\n",
    "# Power parameter for the Minkowski metric. When p is set to 1, it corresponds to the Manhattan distance; when set to 2, it corresponds to the Euclidean distance.\n",
    "\n",
    "#create K-Nearest Neighbor classifier\n",
    "knn = KNeighborsClassifier()\n"
   ]
  },
  {
   "cell_type": "markdown",
   "id": "a9a4d842",
   "metadata": {},
   "source": [
    "Naive Bayesian"
   ]
  },
  {
   "cell_type": "code",
   "execution_count": 176,
   "id": "fd2c11c0",
   "metadata": {},
   "outputs": [],
   "source": [
    "from sklearn.naive_bayes import GaussianNB\n",
    "\n",
    "#parameters for GaussianNB\n",
    "# priors - array-like, shape (n_classes,) - default: None\n",
    "# Prior probabilities of the classes. If specified, the priors are not adjusted based on the data.\n",
    "# var_smoothing - float - positive float\n",
    "# Portion of the largest variance of all features added to variances for calculation stability. It represents the fraction of the largest variance to be added to the estimates for calculation stability.\n",
    "\n",
    "#create Naive Bayesian classifier\n",
    "bayes = GaussianNB()"
   ]
  },
  {
   "cell_type": "markdown",
   "id": "716feeae",
   "metadata": {},
   "source": [
    "Cross Validation and Accuracy Score\n",
    "\n",
    "What we will do here is loop through all of our models and use cross evaluation as a way to compare models. At end we will take the mean accuracy score."
   ]
  },
  {
   "cell_type": "code",
   "execution_count": 177,
   "id": "b2356f1e",
   "metadata": {
    "scrolled": true
   },
   "outputs": [
    {
     "name": "stdout",
     "output_type": "stream",
     "text": [
      "Model:  K-Nearest Neighbor Average Accuracy:  0.78125\n",
      "Model:  Naive Bayesian Average Accuracy:  0.609375\n",
      "Model:  Support Vector Machine Average Accuracy:  0.8109375\n",
      "Model:  Gradient Boosting Average Accuracy:  0.784375\n",
      "Model:  Random Forest Decision Tree Average Accuracy:  0.7984375\n",
      "Model:  Decision Tree Average Accuracy:  0.75\n",
      "Model:  Logistic Regression Average Accuracy:  0.821875\n"
     ]
    }
   ],
   "source": [
    "from sklearn.metrics import accuracy_score\n",
    "from sklearn.model_selection import cross_val_score\n",
    "\n",
    "\n",
    "T = T.astype('int')\n",
    "X_train, X_test, t_train, t_test = train_test_split(X, T, test_size=0.20, random_state=0)\n",
    "\n",
    "models = [[\"K-Nearest Neighbor\",knn],[\"Naive Bayesian\", bayes],[\"Support Vector Machine\",svm_classifier],[\"Gradient Boosting\",gb_classifier],[\"Random Forest Decision Tree\",rf_classifier],[\"Decision Tree\",tree_regressor],[\"Logistic Regression\",lr]]\n",
    "\n",
    "#loop through each model in models array\n",
    "for model in models:\n",
    "    #calculate accuracy score using cross-validation\n",
    "    cv_accuracy = cross_val_score(model[1], X_train, t_train, cv=10, scoring='accuracy')\n",
    "    avg_accuracy = np.mean(cv_accuracy)\n",
    "    \n",
    "    #model[1].fit(X_train, t_train)\n",
    "    #t_pred = model[1].predict(X_test)\n",
    "    #avg_accuracy = accuracy_score(t_test, t_pred)\n",
    "    \n",
    "    print(\"Model: \", model[0], \"Average Accuracy: \", avg_accuracy)"
   ]
  },
  {
   "cell_type": "markdown",
   "id": "26dad673",
   "metadata": {},
   "source": [
    "Now lets look at our model from a regression standpoint"
   ]
  },
  {
   "cell_type": "code",
   "execution_count": 178,
   "id": "a6bbb3dc",
   "metadata": {},
   "outputs": [
    {
     "data": {
      "text/plain": [
       "0       0\n",
       "1       0\n",
       "2       0\n",
       "3       0\n",
       "4       0\n",
       "       ..\n",
       "803    15\n",
       "804     0\n",
       "805     0\n",
       "806     0\n",
       "807     0\n",
       "Name: Games, Length: 808, dtype: int64"
      ]
     },
     "execution_count": 178,
     "metadata": {},
     "output_type": "execute_result"
    }
   ],
   "source": [
    "T = merged_player_data_with_pos['Games']\n",
    "X = merged_player_data_with_pos.loc[:, (merged_player_data_with_pos.columns != \"Games\") & (merged_player_data_with_pos.columns != \"PlayedGame\") & (merged_player_data_with_pos.columns != \"Player\") & (merged_player_data_with_pos.columns != \"Pos_x\") & (merged_player_data_with_pos.columns != \"Pos_y\")]\n",
    "T"
   ]
  },
  {
   "cell_type": "code",
   "execution_count": 179,
   "id": "27d6db77",
   "metadata": {},
   "outputs": [
    {
     "name": "stderr",
     "output_type": "stream",
     "text": [
      "C:\\Users\\davis\\anaconda3\\lib\\site-packages\\sklearn\\model_selection\\_split.py:676: UserWarning: The least populated class in y has only 1 members, which is less than n_splits=10.\n",
      "  warnings.warn(\n"
     ]
    },
    {
     "name": "stdout",
     "output_type": "stream",
     "text": [
      "Model:  K-Nearest Neighbor Average Accuracy:  5.40778133526311\n",
      "Model:  Naive Bayesian Average Accuracy:  7.916830441717666\n"
     ]
    },
    {
     "name": "stderr",
     "output_type": "stream",
     "text": [
      "C:\\Users\\davis\\anaconda3\\lib\\site-packages\\sklearn\\model_selection\\_split.py:676: UserWarning: The least populated class in y has only 1 members, which is less than n_splits=10.\n",
      "  warnings.warn(\n",
      "C:\\Users\\davis\\anaconda3\\lib\\site-packages\\sklearn\\model_selection\\_split.py:676: UserWarning: The least populated class in y has only 1 members, which is less than n_splits=10.\n",
      "  warnings.warn(\n"
     ]
    },
    {
     "name": "stdout",
     "output_type": "stream",
     "text": [
      "Model:  Support Vector Machine Average Accuracy:  5.33687819234734\n"
     ]
    },
    {
     "name": "stderr",
     "output_type": "stream",
     "text": [
      "C:\\Users\\davis\\anaconda3\\lib\\site-packages\\sklearn\\model_selection\\_split.py:676: UserWarning: The least populated class in y has only 1 members, which is less than n_splits=10.\n",
      "  warnings.warn(\n"
     ]
    },
    {
     "name": "stdout",
     "output_type": "stream",
     "text": [
      "Model:  Gradient Boosting Average Accuracy:  5.398713049204736\n"
     ]
    },
    {
     "name": "stderr",
     "output_type": "stream",
     "text": [
      "C:\\Users\\davis\\anaconda3\\lib\\site-packages\\sklearn\\model_selection\\_split.py:676: UserWarning: The least populated class in y has only 1 members, which is less than n_splits=10.\n",
      "  warnings.warn(\n"
     ]
    },
    {
     "name": "stdout",
     "output_type": "stream",
     "text": [
      "Model:  Random Forest Decision Tree Average Accuracy:  5.215849200744156\n",
      "Model:  Decision Tree Average Accuracy:  5.866030203481656\n"
     ]
    },
    {
     "name": "stderr",
     "output_type": "stream",
     "text": [
      "C:\\Users\\davis\\anaconda3\\lib\\site-packages\\sklearn\\model_selection\\_split.py:676: UserWarning: The least populated class in y has only 1 members, which is less than n_splits=10.\n",
      "  warnings.warn(\n",
      "C:\\Users\\davis\\anaconda3\\lib\\site-packages\\sklearn\\linear_model\\_logistic.py:814: ConvergenceWarning: lbfgs failed to converge (status=1):\n",
      "STOP: TOTAL NO. of ITERATIONS REACHED LIMIT.\n",
      "\n",
      "Increase the number of iterations (max_iter) or scale the data as shown in:\n",
      "    https://scikit-learn.org/stable/modules/preprocessing.html\n",
      "Please also refer to the documentation for alternative solver options:\n",
      "    https://scikit-learn.org/stable/modules/linear_model.html#logistic-regression\n",
      "  n_iter_i = _check_optimize_result(\n",
      "C:\\Users\\davis\\anaconda3\\lib\\site-packages\\sklearn\\model_selection\\_split.py:676: UserWarning: The least populated class in y has only 1 members, which is less than n_splits=10.\n",
      "  warnings.warn(\n",
      "C:\\Users\\davis\\anaconda3\\lib\\site-packages\\sklearn\\linear_model\\_logistic.py:814: ConvergenceWarning: lbfgs failed to converge (status=1):\n",
      "STOP: TOTAL NO. of ITERATIONS REACHED LIMIT.\n",
      "\n",
      "Increase the number of iterations (max_iter) or scale the data as shown in:\n",
      "    https://scikit-learn.org/stable/modules/preprocessing.html\n",
      "Please also refer to the documentation for alternative solver options:\n",
      "    https://scikit-learn.org/stable/modules/linear_model.html#logistic-regression\n",
      "  n_iter_i = _check_optimize_result(\n",
      "C:\\Users\\davis\\anaconda3\\lib\\site-packages\\sklearn\\linear_model\\_logistic.py:814: ConvergenceWarning: lbfgs failed to converge (status=1):\n",
      "STOP: TOTAL NO. of ITERATIONS REACHED LIMIT.\n",
      "\n",
      "Increase the number of iterations (max_iter) or scale the data as shown in:\n",
      "    https://scikit-learn.org/stable/modules/preprocessing.html\n",
      "Please also refer to the documentation for alternative solver options:\n",
      "    https://scikit-learn.org/stable/modules/linear_model.html#logistic-regression\n",
      "  n_iter_i = _check_optimize_result(\n",
      "C:\\Users\\davis\\anaconda3\\lib\\site-packages\\sklearn\\linear_model\\_logistic.py:814: ConvergenceWarning: lbfgs failed to converge (status=1):\n",
      "STOP: TOTAL NO. of ITERATIONS REACHED LIMIT.\n",
      "\n",
      "Increase the number of iterations (max_iter) or scale the data as shown in:\n",
      "    https://scikit-learn.org/stable/modules/preprocessing.html\n",
      "Please also refer to the documentation for alternative solver options:\n",
      "    https://scikit-learn.org/stable/modules/linear_model.html#logistic-regression\n",
      "  n_iter_i = _check_optimize_result(\n",
      "C:\\Users\\davis\\anaconda3\\lib\\site-packages\\sklearn\\linear_model\\_logistic.py:814: ConvergenceWarning: lbfgs failed to converge (status=1):\n",
      "STOP: TOTAL NO. of ITERATIONS REACHED LIMIT.\n",
      "\n",
      "Increase the number of iterations (max_iter) or scale the data as shown in:\n",
      "    https://scikit-learn.org/stable/modules/preprocessing.html\n",
      "Please also refer to the documentation for alternative solver options:\n",
      "    https://scikit-learn.org/stable/modules/linear_model.html#logistic-regression\n",
      "  n_iter_i = _check_optimize_result(\n",
      "C:\\Users\\davis\\anaconda3\\lib\\site-packages\\sklearn\\linear_model\\_logistic.py:814: ConvergenceWarning: lbfgs failed to converge (status=1):\n",
      "STOP: TOTAL NO. of ITERATIONS REACHED LIMIT.\n",
      "\n",
      "Increase the number of iterations (max_iter) or scale the data as shown in:\n",
      "    https://scikit-learn.org/stable/modules/preprocessing.html\n",
      "Please also refer to the documentation for alternative solver options:\n",
      "    https://scikit-learn.org/stable/modules/linear_model.html#logistic-regression\n",
      "  n_iter_i = _check_optimize_result(\n",
      "C:\\Users\\davis\\anaconda3\\lib\\site-packages\\sklearn\\linear_model\\_logistic.py:814: ConvergenceWarning: lbfgs failed to converge (status=1):\n",
      "STOP: TOTAL NO. of ITERATIONS REACHED LIMIT.\n",
      "\n",
      "Increase the number of iterations (max_iter) or scale the data as shown in:\n",
      "    https://scikit-learn.org/stable/modules/preprocessing.html\n",
      "Please also refer to the documentation for alternative solver options:\n",
      "    https://scikit-learn.org/stable/modules/linear_model.html#logistic-regression\n",
      "  n_iter_i = _check_optimize_result(\n",
      "C:\\Users\\davis\\anaconda3\\lib\\site-packages\\sklearn\\linear_model\\_logistic.py:814: ConvergenceWarning: lbfgs failed to converge (status=1):\n",
      "STOP: TOTAL NO. of ITERATIONS REACHED LIMIT.\n",
      "\n",
      "Increase the number of iterations (max_iter) or scale the data as shown in:\n",
      "    https://scikit-learn.org/stable/modules/preprocessing.html\n",
      "Please also refer to the documentation for alternative solver options:\n",
      "    https://scikit-learn.org/stable/modules/linear_model.html#logistic-regression\n",
      "  n_iter_i = _check_optimize_result(\n",
      "C:\\Users\\davis\\anaconda3\\lib\\site-packages\\sklearn\\linear_model\\_logistic.py:814: ConvergenceWarning: lbfgs failed to converge (status=1):\n",
      "STOP: TOTAL NO. of ITERATIONS REACHED LIMIT.\n",
      "\n",
      "Increase the number of iterations (max_iter) or scale the data as shown in:\n",
      "    https://scikit-learn.org/stable/modules/preprocessing.html\n",
      "Please also refer to the documentation for alternative solver options:\n",
      "    https://scikit-learn.org/stable/modules/linear_model.html#logistic-regression\n",
      "  n_iter_i = _check_optimize_result(\n",
      "C:\\Users\\davis\\anaconda3\\lib\\site-packages\\sklearn\\linear_model\\_logistic.py:814: ConvergenceWarning: lbfgs failed to converge (status=1):\n",
      "STOP: TOTAL NO. of ITERATIONS REACHED LIMIT.\n",
      "\n",
      "Increase the number of iterations (max_iter) or scale the data as shown in:\n",
      "    https://scikit-learn.org/stable/modules/preprocessing.html\n",
      "Please also refer to the documentation for alternative solver options:\n",
      "    https://scikit-learn.org/stable/modules/linear_model.html#logistic-regression\n",
      "  n_iter_i = _check_optimize_result(\n"
     ]
    },
    {
     "name": "stdout",
     "output_type": "stream",
     "text": [
      "Model:  Logistic Regression Average Accuracy:  5.33687819234734\n",
      "Model:  Linear Regression Average Accuracy:  4.68854975971251\n"
     ]
    },
    {
     "name": "stderr",
     "output_type": "stream",
     "text": [
      "C:\\Users\\davis\\anaconda3\\lib\\site-packages\\sklearn\\linear_model\\_logistic.py:814: ConvergenceWarning: lbfgs failed to converge (status=1):\n",
      "STOP: TOTAL NO. of ITERATIONS REACHED LIMIT.\n",
      "\n",
      "Increase the number of iterations (max_iter) or scale the data as shown in:\n",
      "    https://scikit-learn.org/stable/modules/preprocessing.html\n",
      "Please also refer to the documentation for alternative solver options:\n",
      "    https://scikit-learn.org/stable/modules/linear_model.html#logistic-regression\n",
      "  n_iter_i = _check_optimize_result(\n"
     ]
    }
   ],
   "source": [
    "from sklearn.model_selection import cross_validate\n",
    "\n",
    "\n",
    "T = T.astype('int')\n",
    "X_train, X_test, t_train, t_test = train_test_split(X, T, test_size=0.20, random_state=0)\n",
    "\n",
    "models = [[\"K-Nearest Neighbor\",knn],[\"Naive Bayesian\", bayes],[\"Support Vector Machine\",svm_classifier],[\"Gradient Boosting\",gb_classifier],[\"Random Forest Decision Tree\",rf_classifier],[\"Decision Tree\",tree_regressor],[\"Logistic Regression\",lr],[\"Linear Regression\",linearreg]]\n",
    "\n",
    "#loop through each model in models array\n",
    "for model in models:\n",
    "    #calculate accuracy score using 10-fold cross-validation\n",
    "    mod = model[1].fit(X_train,t_train)\n",
    "    rootMeanSquaredError = cross_validate(mod, X_train, t_train, cv=10, scoring=['neg_root_mean_squared_error'],return_train_score=True)\n",
    "    convertedRMSE = np.abs(np.mean(rootMeanSquaredError['test_neg_root_mean_squared_error']))\n",
    "    \n",
    "    print(\"Model: \", model[0], \"Average Accuracy: \", convertedRMSE)"
   ]
  },
  {
   "cell_type": "markdown",
   "id": "13df0067",
   "metadata": {},
   "source": [
    "Now lets try and improve our model by feeding it different data.\n",
    "\n",
    "Since some positions should/shouldn't have certains combine statistics. For example a lineman is not expected to run a 4.4 40 yard dash. Therefore do we need to add positions as an attribute that our model is run on. Lets test it."
   ]
  },
  {
   "cell_type": "code",
   "execution_count": 180,
   "id": "d4d4a792",
   "metadata": {},
   "outputs": [],
   "source": [
    "#hashmap that will coordinate the numerical number assigned to each position group\n",
    "\n",
    "#O-Line: 0\n",
    "#D-Line DT/DE: 1\n",
    "#Edge: 2\n",
    "#QB: 3\n",
    "#TE: 4\n",
    "#WR: 5\n",
    "#RB: 6\n",
    "#CB/S: 7\n",
    "\n",
    "position_map = {\"OT\":0,\n",
    "               \"CB\":1,\n",
    "               \"WR\":2,\n",
    "               \"P\":3,\n",
    "               \"DE\":4,\n",
    "               \"RB\":5,\n",
    "               \"OG\":6,\n",
    "               \"FB\":7,\n",
    "               \"ILB\":8,\n",
    "               \"TE\":9,\n",
    "               \"OLB\":10,\n",
    "               \"S\":11,\n",
    "               \"K\":12,\n",
    "               \"EDGE\":13,\n",
    "               \"C\":14,\n",
    "               \"DT\":15,\n",
    "               \"QB\":16,\n",
    "               \"DB\":17,\n",
    "               \"DL\":18,\n",
    "               \"LB\":19,\n",
    "               \"OL\":20,\n",
    "               \"LS\":21}"
   ]
  },
  {
   "cell_type": "code",
   "execution_count": 181,
   "id": "44e3d203",
   "metadata": {},
   "outputs": [],
   "source": [
    "combine_data_2013 = pd.read_csv('../data/combine_data_2013.csv')\n",
    "combine_data_2014 = pd.read_csv('../data/combine_data_2014.csv')\n",
    "combine_data_2015 = pd.read_csv('../data/combine_data_2015.csv')\n",
    "combine_data_2016 = pd.read_csv('../data/combine_data_2016.csv')\n",
    "combine_data_2017 = pd.read_csv('../data/combine_data_2017.csv')"
   ]
  },
  {
   "cell_type": "code",
   "execution_count": 182,
   "id": "ae6f9371",
   "metadata": {},
   "outputs": [
    {
     "data": {
      "text/html": [
       "<div>\n",
       "<style scoped>\n",
       "    .dataframe tbody tr th:only-of-type {\n",
       "        vertical-align: middle;\n",
       "    }\n",
       "\n",
       "    .dataframe tbody tr th {\n",
       "        vertical-align: top;\n",
       "    }\n",
       "\n",
       "    .dataframe thead th {\n",
       "        text-align: right;\n",
       "    }\n",
       "</style>\n",
       "<table border=\"1\" class=\"dataframe\">\n",
       "  <thead>\n",
       "    <tr style=\"text-align: right;\">\n",
       "      <th></th>\n",
       "      <th>Player</th>\n",
       "      <th>Pos</th>\n",
       "    </tr>\n",
       "  </thead>\n",
       "  <tbody>\n",
       "    <tr>\n",
       "      <th>0</th>\n",
       "      <td>Jamal Adams</td>\n",
       "      <td>S</td>\n",
       "    </tr>\n",
       "    <tr>\n",
       "      <th>1</th>\n",
       "      <td>Montravius Adams</td>\n",
       "      <td>DT</td>\n",
       "    </tr>\n",
       "    <tr>\n",
       "      <th>2</th>\n",
       "      <td>Rodney Adams</td>\n",
       "      <td>WR</td>\n",
       "    </tr>\n",
       "    <tr>\n",
       "      <th>3</th>\n",
       "      <td>Quincy Adeboyejo</td>\n",
       "      <td>WR</td>\n",
       "    </tr>\n",
       "    <tr>\n",
       "      <th>4</th>\n",
       "      <td>Brian Allen</td>\n",
       "      <td>CB</td>\n",
       "    </tr>\n",
       "    <tr>\n",
       "      <th>...</th>\n",
       "      <td>...</td>\n",
       "      <td>...</td>\n",
       "    </tr>\n",
       "    <tr>\n",
       "      <th>322</th>\n",
       "      <td>Jesus Wilson</td>\n",
       "      <td>WR</td>\n",
       "    </tr>\n",
       "    <tr>\n",
       "      <th>323</th>\n",
       "      <td>Quincy Wilson</td>\n",
       "      <td>CB</td>\n",
       "    </tr>\n",
       "    <tr>\n",
       "      <th>324</th>\n",
       "      <td>Ahkello Witherspoon</td>\n",
       "      <td>CB</td>\n",
       "    </tr>\n",
       "    <tr>\n",
       "      <th>325</th>\n",
       "      <td>Xavier Woods</td>\n",
       "      <td>S</td>\n",
       "    </tr>\n",
       "    <tr>\n",
       "      <th>326</th>\n",
       "      <td>Chris Wormley</td>\n",
       "      <td>DT</td>\n",
       "    </tr>\n",
       "  </tbody>\n",
       "</table>\n",
       "<p>327 rows × 2 columns</p>\n",
       "</div>"
      ],
      "text/plain": [
       "                  Player Pos\n",
       "0            Jamal Adams   S\n",
       "1       Montravius Adams  DT\n",
       "2           Rodney Adams  WR\n",
       "3       Quincy Adeboyejo  WR\n",
       "4            Brian Allen  CB\n",
       "..                   ...  ..\n",
       "322         Jesus Wilson  WR\n",
       "323        Quincy Wilson  CB\n",
       "324  Ahkello Witherspoon  CB\n",
       "325         Xavier Woods   S\n",
       "326        Chris Wormley  DT\n",
       "\n",
       "[327 rows x 2 columns]"
      ]
     },
     "execution_count": 182,
     "metadata": {},
     "output_type": "execute_result"
    }
   ],
   "source": [
    "combine_data_2013 = combine_data_2013[['Player','Pos']]\n",
    "combine_data_2014= combine_data_2014[['Player','Pos']]\n",
    "combine_data_2015= combine_data_2015[['Player','Pos']]\n",
    "combine_data_2016= combine_data_2016[['Player','Pos']]\n",
    "combine_data_2017= combine_data_2017[['Player','Pos']]\n",
    "combine_data_2017"
   ]
  },
  {
   "cell_type": "code",
   "execution_count": 183,
   "id": "5c181ea6",
   "metadata": {},
   "outputs": [
    {
     "name": "stdout",
     "output_type": "stream",
     "text": [
      "               Player Pos\n",
      "0        Oday Aboushi  OT\n",
      "1       Robert Alford  CB\n",
      "2       C.J. Anderson  RB\n",
      "3         Ziggy Ansah  DE\n",
      "4        Marc Anthony  CB\n",
      "..                ...  ..\n",
      "803   Marcus Williams   S\n",
      "804  Stanley Williams  RB\n",
      "805     Jordan Willis  DE\n",
      "806     Quincy Wilson  CB\n",
      "807      Xavier Woods   S\n",
      "\n",
      "[808 rows x 2 columns]\n"
     ]
    }
   ],
   "source": [
    "# Combine all combine_data DataFrames\n",
    "combined_data = pd.concat([combine_data_2013,combine_data_2014,combine_data_2015,combine_data_2016,combine_data_2017], axis=0, ignore_index=True)\n",
    "\n",
    "# Merge combined_data with merged_player_data\n",
    "merged_player_data_with_pos = pd.merge(merged_player_data, combined_data, on='Player', how='left')\n",
    "\n",
    "# Print the resulting DataFrame\n",
    "print(merged_player_data_with_pos[['Player','Pos']])\n"
   ]
  },
  {
   "cell_type": "code",
   "execution_count": 184,
   "id": "db4a492c",
   "metadata": {},
   "outputs": [
    {
     "name": "stdout",
     "output_type": "stream",
     "text": [
      "               Player  40yd  Vertical  Bench  BroadJump  3Cone  Shuttle  \\\n",
      "0        Oday Aboushi  5.41      23.5   17.0      100.0   7.92     4.84   \n",
      "1       Robert Alford  4.39      40.0   17.0      132.0   6.89     4.23   \n",
      "2       C.J. Anderson  4.60      32.0   17.0      119.0   7.15     4.12   \n",
      "3         Ziggy Ansah  4.56      34.5   21.0      118.0   7.11     4.26   \n",
      "4        Marc Anthony  4.63      35.0   12.0      118.0   6.74     4.07   \n",
      "..                ...   ...       ...    ...        ...    ...      ...   \n",
      "803   Marcus Williams  4.56      43.5   14.0      129.0   6.85     4.20   \n",
      "804  Stanley Williams  4.51      36.0   18.0      121.0   6.86     4.18   \n",
      "805     Jordan Willis  4.53      39.0   24.0      125.0   6.85     4.28   \n",
      "806     Quincy Wilson  4.54      32.0   14.0      118.0   6.86     4.02   \n",
      "807      Xavier Woods  4.54      33.5   19.0      122.0   6.72     4.13   \n",
      "\n",
      "     Games  PlayedGame  Pos  \n",
      "0        0           0    0  \n",
      "1        0           0    1  \n",
      "2        0           0    5  \n",
      "3        0           0    4  \n",
      "4        0           0    1  \n",
      "..     ...         ...  ...  \n",
      "803     15           1   11  \n",
      "804      0           0    5  \n",
      "805      0           0    4  \n",
      "806      0           0    1  \n",
      "807      0           0   11  \n",
      "\n",
      "[808 rows x 10 columns]\n"
     ]
    }
   ],
   "source": [
    "merged_player_data_with_pos['Pos'] = merged_player_data_with_pos['Pos'].map(lambda x: position_map.get(x, x))\n",
    "print(merged_player_data_with_pos)"
   ]
  },
  {
   "cell_type": "code",
   "execution_count": 185,
   "id": "50da1857",
   "metadata": {},
   "outputs": [],
   "source": [
    "T = merged_player_data_with_pos['PlayedGame']\n",
    "X = merged_player_data_with_pos.loc[:, (merged_player_data_with_pos.columns != \"Games\") & (merged_player_data_with_pos.columns != \"PlayedGame\") & (merged_player_data_with_pos.columns != \"Player\") & (merged_player_data_with_pos.columns != \"Pos_x\") & (merged_player_data_with_pos.columns != \"Pos_y\")]\n"
   ]
  },
  {
   "cell_type": "markdown",
   "id": "b53aa7fa",
   "metadata": {},
   "source": [
    "Classification Accuracy Given Player Position"
   ]
  },
  {
   "cell_type": "code",
   "execution_count": 186,
   "id": "7e260fdd",
   "metadata": {},
   "outputs": [
    {
     "name": "stdout",
     "output_type": "stream",
     "text": [
      "Model:  K-Nearest Neighbor Average Accuracy:  0.7895432692307691\n",
      "Model:  Naive Bayesian Average Accuracy:  0.5929807692307693\n",
      "Model:  Support Vector Machine Average Accuracy:  0.8173557692307692\n",
      "Model:  Gradient Boosting Average Accuracy:  0.8530528846153846\n",
      "Model:  Random Forest Decision Tree Average Accuracy:  0.8592548076923077\n",
      "Model:  Decision Tree Average Accuracy:  0.8483173076923076\n",
      "Model:  Logistic Regression Average Accuracy:  0.8173557692307692\n"
     ]
    }
   ],
   "source": [
    "from sklearn.metrics import accuracy_score\n",
    "from sklearn.model_selection import cross_val_score\n",
    "\n",
    "\n",
    "T = T.astype('int')\n",
    "X_train, X_test, t_train, t_test = train_test_split(X, T, test_size=0.20, random_state=0)\n",
    "\n",
    "models = [[\"K-Nearest Neighbor\",knn],[\"Naive Bayesian\", bayes],[\"Support Vector Machine\",svm_classifier],[\"Gradient Boosting\",gb_classifier],[\"Random Forest Decision Tree\",rf_classifier],[\"Decision Tree\",tree_regressor],[\"Logistic Regression\",lr]]\n",
    "\n",
    "#loop through each model in models array\n",
    "for model in models:\n",
    "    #calculate accuracy score using 10-fold cross-validation\n",
    "    cv_accuracy = cross_val_score(model[1], X_train, t_train, cv=10, scoring='accuracy')\n",
    "    avg_accuracy = np.mean(cv_accuracy)\n",
    "    \n",
    "    print(\"Model: \", model[0], \"Average Accuracy: \", avg_accuracy)"
   ]
  },
  {
   "cell_type": "markdown",
   "id": "49428ce3",
   "metadata": {},
   "source": [
    "Confusion Matrix"
   ]
  },
  {
   "cell_type": "code",
   "execution_count": 187,
   "id": "52ca9aac",
   "metadata": {},
   "outputs": [
    {
     "name": "stdout",
     "output_type": "stream",
     "text": [
      "================K-Nearest Neighbor================\n",
      "MCC: 0.24295623466815464\n",
      "              precision    recall  f1-score   support\n",
      "\n",
      "           0       0.83      0.96      0.89       131\n",
      "           1       0.55      0.19      0.29        31\n",
      "\n",
      "    accuracy                           0.81       162\n",
      "   macro avg       0.69      0.58      0.59       162\n",
      "weighted avg       0.78      0.81      0.78       162\n",
      "\n"
     ]
    },
    {
     "data": {
      "image/png": "[encoded data removed]",
      "text/plain": [
       "<Figure size 432x288 with 2 Axes>"
      ]
     },
     "metadata": {
      "needs_background": "light"
     },
     "output_type": "display_data"
    },
    {
     "name": "stdout",
     "output_type": "stream",
     "text": [
      "==================Naive Bayesian==================\n",
      "MCC: 0.435833259108973\n",
      "              precision    recall  f1-score   support\n",
      "\n",
      "           0       0.98      0.62      0.76       131\n",
      "           1       0.37      0.94      0.53        31\n",
      "\n",
      "    accuracy                           0.68       162\n",
      "   macro avg       0.67      0.78      0.64       162\n",
      "weighted avg       0.86      0.68      0.71       162\n",
      "\n"
     ]
    },
    {
     "data": {
      "image/png": "[encoded data removed]",
      "text/plain": [
       "<Figure size 432x288 with 2 Axes>"
      ]
     },
     "metadata": {
      "needs_background": "light"
     },
     "output_type": "display_data"
    },
    {
     "name": "stdout",
     "output_type": "stream",
     "text": [
      "==============Support Vector Machine==============\n",
      "MCC: 0.0\n",
      "              precision    recall  f1-score   support\n",
      "\n",
      "           0       0.81      1.00      0.89       131\n",
      "           1       0.00      0.00      0.00        31\n",
      "\n",
      "    accuracy                           0.81       162\n",
      "   macro avg       0.40      0.50      0.45       162\n",
      "weighted avg       0.65      0.81      0.72       162\n",
      "\n"
     ]
    },
    {
     "name": "stderr",
     "output_type": "stream",
     "text": [
      "C:\\Users\\davis\\anaconda3\\lib\\site-packages\\sklearn\\metrics\\_classification.py:1318: UndefinedMetricWarning: Precision and F-score are ill-defined and being set to 0.0 in labels with no predicted samples. Use `zero_division` parameter to control this behavior.\n",
      "  _warn_prf(average, modifier, msg_start, len(result))\n",
      "C:\\Users\\davis\\anaconda3\\lib\\site-packages\\sklearn\\metrics\\_classification.py:1318: UndefinedMetricWarning: Precision and F-score are ill-defined and being set to 0.0 in labels with no predicted samples. Use `zero_division` parameter to control this behavior.\n",
      "  _warn_prf(average, modifier, msg_start, len(result))\n",
      "C:\\Users\\davis\\anaconda3\\lib\\site-packages\\sklearn\\metrics\\_classification.py:1318: UndefinedMetricWarning: Precision and F-score are ill-defined and being set to 0.0 in labels with no predicted samples. Use `zero_division` parameter to control this behavior.\n",
      "  _warn_prf(average, modifier, msg_start, len(result))\n"
     ]
    },
    {
     "data": {
      "image/png": "[encoded data removed]",
      "text/plain": [
       "<Figure size 432x288 with 2 Axes>"
      ]
     },
     "metadata": {
      "needs_background": "light"
     },
     "output_type": "display_data"
    },
    {
     "name": "stdout",
     "output_type": "stream",
     "text": [
      "================Gradient Boosting=================\n",
      "MCC: 0.6164308689423308\n",
      "              precision    recall  f1-score   support\n",
      "\n",
      "           0       0.92      0.93      0.93       131\n",
      "           1       0.70      0.68      0.69        31\n",
      "\n",
      "    accuracy                           0.88       162\n",
      "   macro avg       0.81      0.80      0.81       162\n",
      "weighted avg       0.88      0.88      0.88       162\n",
      "\n"
     ]
    },
    {
     "data": {
      "image/png": "[encoded data removed]",
      "text/plain": [
       "<Figure size 432x288 with 2 Axes>"
      ]
     },
     "metadata": {
      "needs_background": "light"
     },
     "output_type": "display_data"
    },
    {
     "name": "stdout",
     "output_type": "stream",
     "text": [
      "===========Random Forest Decision Tree============\n",
      "MCC: 0.3273335521617737\n",
      "              precision    recall  f1-score   support\n",
      "\n",
      "           0       0.85      0.94      0.89       131\n",
      "           1       0.56      0.32      0.41        31\n",
      "\n",
      "    accuracy                           0.82       162\n",
      "   macro avg       0.70      0.63      0.65       162\n",
      "weighted avg       0.80      0.82      0.80       162\n",
      "\n"
     ]
    },
    {
     "data": {
      "image/png": "[encoded data removed]",
      "text/plain": [
       "<Figure size 432x288 with 2 Axes>"
      ]
     },
     "metadata": {
      "needs_background": "light"
     },
     "output_type": "display_data"
    },
    {
     "name": "stdout",
     "output_type": "stream",
     "text": [
      "==================Decision Tree===================\n",
      "MCC: 0.3764849401195314\n",
      "              precision    recall  f1-score   support\n",
      "\n",
      "           0       0.89      0.83      0.86       131\n",
      "           1       0.45      0.58      0.51        31\n",
      "\n",
      "    accuracy                           0.78       162\n",
      "   macro avg       0.67      0.71      0.68       162\n",
      "weighted avg       0.81      0.78      0.79       162\n",
      "\n"
     ]
    },
    {
     "data": {
      "image/png": "[encoded data removed]",
      "text/plain": [
       "<Figure size 432x288 with 2 Axes>"
      ]
     },
     "metadata": {
      "needs_background": "light"
     },
     "output_type": "display_data"
    },
    {
     "name": "stdout",
     "output_type": "stream",
     "text": [
      "===============Logistic Regression================\n",
      "MCC: 0.0\n",
      "              precision    recall  f1-score   support\n",
      "\n",
      "           0       0.81      1.00      0.89       131\n",
      "           1       0.00      0.00      0.00        31\n",
      "\n",
      "    accuracy                           0.81       162\n",
      "   macro avg       0.40      0.50      0.45       162\n",
      "weighted avg       0.65      0.81      0.72       162\n",
      "\n"
     ]
    },
    {
     "name": "stderr",
     "output_type": "stream",
     "text": [
      "C:\\Users\\davis\\anaconda3\\lib\\site-packages\\sklearn\\metrics\\_classification.py:1318: UndefinedMetricWarning: Precision and F-score are ill-defined and being set to 0.0 in labels with no predicted samples. Use `zero_division` parameter to control this behavior.\n",
      "  _warn_prf(average, modifier, msg_start, len(result))\n",
      "C:\\Users\\davis\\anaconda3\\lib\\site-packages\\sklearn\\metrics\\_classification.py:1318: UndefinedMetricWarning: Precision and F-score are ill-defined and being set to 0.0 in labels with no predicted samples. Use `zero_division` parameter to control this behavior.\n",
      "  _warn_prf(average, modifier, msg_start, len(result))\n",
      "C:\\Users\\davis\\anaconda3\\lib\\site-packages\\sklearn\\metrics\\_classification.py:1318: UndefinedMetricWarning: Precision and F-score are ill-defined and being set to 0.0 in labels with no predicted samples. Use `zero_division` parameter to control this behavior.\n",
      "  _warn_prf(average, modifier, msg_start, len(result))\n"
     ]
    },
    {
     "data": {
      "image/png": "[encoded data removed]",
      "text/plain": [
       "<Figure size 432x288 with 2 Axes>"
      ]
     },
     "metadata": {
      "needs_background": "light"
     },
     "output_type": "display_data"
    }
   ],
   "source": [
    "from sklearn.metrics import classification_report, confusion_matrix, ConfusionMatrixDisplay,matthews_corrcoef\n",
    "import numpy as np\n",
    "\n",
    "T = T.astype('int')\n",
    "X_train, X_test, t_train, t_test = train_test_split(X, T, test_size=0.20, random_state=0)\n",
    "\n",
    "models = [[\"K-Nearest Neighbor\",knn],[\"Naive Bayesian\", bayes],[\"Support Vector Machine\",svm_classifier],[\"Gradient Boosting\",gb_classifier],[\"Random Forest Decision Tree\",rf_classifier],[\"Decision Tree\",tree_regressor],[\"Logistic Regression\",lr]]\n",
    "\n",
    "#loop through each model in models array\n",
    "for model_name, model_instance in models:\n",
    "    print(\"{:=^50s}\".format(model_name))\n",
    "    \n",
    "    #fit the model on the training data\n",
    "    model_instance.fit(X_train, t_train)\n",
    "    \n",
    "    #make predictions on the test data\n",
    "    y_test = model_instance.predict(X_test)\n",
    "    \n",
    "    #used to evalue scores of binary classifiers\n",
    "    mcc_score = matthews_corrcoef(t_test, y_test)\n",
    "    print(\"MCC:\",mcc_score)\n",
    "    \n",
    "    #print classification report\n",
    "    cm_report = classification_report(t_test, y_test)\n",
    "    print(cm_report)\n",
    "    \n",
    "    #generate confusion matrix\n",
    "    cm = confusion_matrix(t_test, y_test)\n",
    "    \n",
    "    #display confusion matrix\n",
    "    disp = ConfusionMatrixDisplay(confusion_matrix=cm, display_labels=np.unique(t_test))\n",
    "    disp.plot(cmap=plt.cm.magma)\n",
    "    plt.title('Confusion Matrix for ' + model_name) \n",
    "    plt.show()\n"
   ]
  },
  {
   "cell_type": "markdown",
   "id": "0bfec38f",
   "metadata": {},
   "source": [
    "It seems as if the Support Vector Machine model has one of the best accuracies compared to any other model. Lets try and see if we can fine tune by using GridSearchCV to see if we can find the best hyperparemters for our model."
   ]
  },
  {
   "cell_type": "code",
   "execution_count": 188,
   "id": "b5808470",
   "metadata": {},
   "outputs": [
    {
     "name": "stdout",
     "output_type": "stream",
     "text": [
      "Best parameters: {'C': 0.1, 'kernel': 'rbf'}\n",
      "Test accuracy: 0.808641975308642\n"
     ]
    }
   ],
   "source": [
    "from sklearn.model_selection import GridSearchCV\n",
    "\n",
    "#parameters for SVC\n",
    "# C - float - positive float\n",
    "# Regularization parameter. The strength of the regularization is inversely proportional to C. Must be strictly positive.\n",
    "# kernel - {'linear', 'poly', 'rbf', 'sigmoid', 'precomputed'} - default: 'rbf'\n",
    "# Specifies the kernel type to be used in the algorithm. 'linear' uses a linear kernel, 'poly' uses a polynomial kernel, 'rbf' uses a radial basis function kernel, and 'sigmoid' uses a sigmoid kernel.\n",
    "# degree - int - positive integer - applicable only to 'poly' kernel\n",
    "# Degree of the polynomial kernel function ('poly'). Ignored by all other kernels.\n",
    "# gamma - {'scale', 'auto'} or float - positive float - applicable to 'rbf', 'poly', and 'sigmoid' kernels\n",
    "# Kernel coefficient for 'rbf', 'poly', and 'sigmoid'. If 'scale' is selected, it is calculated as 1 / (n_features * X.var()) and if 'auto', it uses 1 / n_features.\n",
    "# probability - bool - True or False\n",
    "# Whether to enable probability estimates. This must be enabled prior to calling `fit`, and it slows down the training process.\n",
    "\n",
    "param_grid = {'C':[0.1, 1, 10, 100], 'kernel':['rbf', 'linear','rbf','sigmoid']}\n",
    "\n",
    "grid_search = GridSearchCV(svm_classifier, param_grid, cv=5)\n",
    "grid_search.fit(X_train, t_train)\n",
    "print(\"Best parameters:\", grid_search.best_params_)\n",
    "\n",
    "# Evaluate the best model on the test set\n",
    "best_model = grid_search.best_estimator_\n",
    "accuracy = best_model.score(X_test, t_test)\n",
    "print(\"Test accuracy:\", accuracy)"
   ]
  },
  {
   "cell_type": "markdown",
   "id": "a812f08f",
   "metadata": {},
   "source": [
    "Hyperparemter values shown in graph"
   ]
  },
  {
   "cell_type": "code",
   "execution_count": 189,
   "id": "2bc7f033",
   "metadata": {},
   "outputs": [
    {
     "data": {
      "image/png": "[encoded data removed]",
      "text/plain": [
       "<Figure size 720x576 with 1 Axes>"
      ]
     },
     "metadata": {
      "needs_background": "light"
     },
     "output_type": "display_data"
    }
   ],
   "source": [
    "import matplotlib.pyplot as plt\n",
    "from matplotlib.ticker import MultipleLocator\n",
    "\n",
    "param_names = [\"{}_{}\".format(p['C'], p['kernel']) for p in grid_search.cv_results_['params']]\n",
    "\n",
    "\n",
    "plt.figure(figsize=(10,8))\n",
    "rng = range(len(param_names))\n",
    "\n",
    "plt.plot(param_names,  grid_search.cv_results_['mean_test_score'], 'bo-')\n",
    "plt.fill_between(param_names,  grid_search.cv_results_['mean_test_score'] + grid_search.cv_results_['std_test_score'],  grid_search.cv_results_['mean_test_score'] - grid_search.cv_results_['std_test_score'], alpha=0.7)\n",
    "\n",
    "plt.gca().xaxis.set_major_locator(MultipleLocator(1))\n",
    "\n",
    "plt.xlabel(\"hyper-parameters\")\n",
    "plt.ylabel(\"CV accuracy\")\n",
    "\n",
    "plt.xticks(rotation=45, ha='right')  \n",
    "plt.tight_layout()  \n",
    "plt.show()\n"
   ]
  },
  {
   "cell_type": "markdown",
   "id": "66782407",
   "metadata": {},
   "source": [
    "Lets now look at Root Mean Square Error of our models to see if we can predict the number of snaps a player will player in a season rather then just will a player play in a season."
   ]
  },
  {
   "cell_type": "code",
   "execution_count": 190,
   "id": "9cd2e68e",
   "metadata": {},
   "outputs": [
    {
     "data": {
      "text/html": [
       "<div>\n",
       "<style scoped>\n",
       "    .dataframe tbody tr th:only-of-type {\n",
       "        vertical-align: middle;\n",
       "    }\n",
       "\n",
       "    .dataframe tbody tr th {\n",
       "        vertical-align: top;\n",
       "    }\n",
       "\n",
       "    .dataframe thead th {\n",
       "        text-align: right;\n",
       "    }\n",
       "</style>\n",
       "<table border=\"1\" class=\"dataframe\">\n",
       "  <thead>\n",
       "    <tr style=\"text-align: right;\">\n",
       "      <th></th>\n",
       "      <th>40yd</th>\n",
       "      <th>Vertical</th>\n",
       "      <th>Bench</th>\n",
       "      <th>BroadJump</th>\n",
       "      <th>3Cone</th>\n",
       "      <th>Shuttle</th>\n",
       "      <th>Pos</th>\n",
       "    </tr>\n",
       "  </thead>\n",
       "  <tbody>\n",
       "    <tr>\n",
       "      <th>0</th>\n",
       "      <td>5.41</td>\n",
       "      <td>23.5</td>\n",
       "      <td>17.0</td>\n",
       "      <td>100.0</td>\n",
       "      <td>7.92</td>\n",
       "      <td>4.84</td>\n",
       "      <td>0</td>\n",
       "    </tr>\n",
       "    <tr>\n",
       "      <th>1</th>\n",
       "      <td>4.39</td>\n",
       "      <td>40.0</td>\n",
       "      <td>17.0</td>\n",
       "      <td>132.0</td>\n",
       "      <td>6.89</td>\n",
       "      <td>4.23</td>\n",
       "      <td>1</td>\n",
       "    </tr>\n",
       "    <tr>\n",
       "      <th>2</th>\n",
       "      <td>4.60</td>\n",
       "      <td>32.0</td>\n",
       "      <td>17.0</td>\n",
       "      <td>119.0</td>\n",
       "      <td>7.15</td>\n",
       "      <td>4.12</td>\n",
       "      <td>5</td>\n",
       "    </tr>\n",
       "    <tr>\n",
       "      <th>3</th>\n",
       "      <td>4.56</td>\n",
       "      <td>34.5</td>\n",
       "      <td>21.0</td>\n",
       "      <td>118.0</td>\n",
       "      <td>7.11</td>\n",
       "      <td>4.26</td>\n",
       "      <td>4</td>\n",
       "    </tr>\n",
       "    <tr>\n",
       "      <th>4</th>\n",
       "      <td>4.63</td>\n",
       "      <td>35.0</td>\n",
       "      <td>12.0</td>\n",
       "      <td>118.0</td>\n",
       "      <td>6.74</td>\n",
       "      <td>4.07</td>\n",
       "      <td>1</td>\n",
       "    </tr>\n",
       "    <tr>\n",
       "      <th>...</th>\n",
       "      <td>...</td>\n",
       "      <td>...</td>\n",
       "      <td>...</td>\n",
       "      <td>...</td>\n",
       "      <td>...</td>\n",
       "      <td>...</td>\n",
       "      <td>...</td>\n",
       "    </tr>\n",
       "    <tr>\n",
       "      <th>803</th>\n",
       "      <td>4.56</td>\n",
       "      <td>43.5</td>\n",
       "      <td>14.0</td>\n",
       "      <td>129.0</td>\n",
       "      <td>6.85</td>\n",
       "      <td>4.20</td>\n",
       "      <td>11</td>\n",
       "    </tr>\n",
       "    <tr>\n",
       "      <th>804</th>\n",
       "      <td>4.51</td>\n",
       "      <td>36.0</td>\n",
       "      <td>18.0</td>\n",
       "      <td>121.0</td>\n",
       "      <td>6.86</td>\n",
       "      <td>4.18</td>\n",
       "      <td>5</td>\n",
       "    </tr>\n",
       "    <tr>\n",
       "      <th>805</th>\n",
       "      <td>4.53</td>\n",
       "      <td>39.0</td>\n",
       "      <td>24.0</td>\n",
       "      <td>125.0</td>\n",
       "      <td>6.85</td>\n",
       "      <td>4.28</td>\n",
       "      <td>4</td>\n",
       "    </tr>\n",
       "    <tr>\n",
       "      <th>806</th>\n",
       "      <td>4.54</td>\n",
       "      <td>32.0</td>\n",
       "      <td>14.0</td>\n",
       "      <td>118.0</td>\n",
       "      <td>6.86</td>\n",
       "      <td>4.02</td>\n",
       "      <td>1</td>\n",
       "    </tr>\n",
       "    <tr>\n",
       "      <th>807</th>\n",
       "      <td>4.54</td>\n",
       "      <td>33.5</td>\n",
       "      <td>19.0</td>\n",
       "      <td>122.0</td>\n",
       "      <td>6.72</td>\n",
       "      <td>4.13</td>\n",
       "      <td>11</td>\n",
       "    </tr>\n",
       "  </tbody>\n",
       "</table>\n",
       "<p>808 rows × 7 columns</p>\n",
       "</div>"
      ],
      "text/plain": [
       "     40yd  Vertical  Bench  BroadJump  3Cone  Shuttle  Pos\n",
       "0    5.41      23.5   17.0      100.0   7.92     4.84    0\n",
       "1    4.39      40.0   17.0      132.0   6.89     4.23    1\n",
       "2    4.60      32.0   17.0      119.0   7.15     4.12    5\n",
       "3    4.56      34.5   21.0      118.0   7.11     4.26    4\n",
       "4    4.63      35.0   12.0      118.0   6.74     4.07    1\n",
       "..    ...       ...    ...        ...    ...      ...  ...\n",
       "803  4.56      43.5   14.0      129.0   6.85     4.20   11\n",
       "804  4.51      36.0   18.0      121.0   6.86     4.18    5\n",
       "805  4.53      39.0   24.0      125.0   6.85     4.28    4\n",
       "806  4.54      32.0   14.0      118.0   6.86     4.02    1\n",
       "807  4.54      33.5   19.0      122.0   6.72     4.13   11\n",
       "\n",
       "[808 rows x 7 columns]"
      ]
     },
     "execution_count": 190,
     "metadata": {},
     "output_type": "execute_result"
    }
   ],
   "source": [
    "T = merged_player_data_with_pos['Games']\n",
    "X = merged_player_data_with_pos.loc[:, (merged_player_data_with_pos.columns != \"Games\") & (merged_player_data_with_pos.columns != \"PlayedGame\") & (merged_player_data_with_pos.columns != \"Player\") & (merged_player_data_with_pos.columns != \"Pos_x\") & (merged_player_data_with_pos.columns != \"Pos_y\")]\n",
    "X"
   ]
  },
  {
   "cell_type": "code",
   "execution_count": 191,
   "id": "09509b04",
   "metadata": {},
   "outputs": [],
   "source": [
    "from sklearn.linear_model import LinearRegression\n",
    "\n",
    "linearreg = LinearRegression()"
   ]
  },
  {
   "cell_type": "code",
   "execution_count": 192,
   "id": "5f4be6d5",
   "metadata": {},
   "outputs": [
    {
     "name": "stderr",
     "output_type": "stream",
     "text": [
      "C:\\Users\\davis\\anaconda3\\lib\\site-packages\\sklearn\\model_selection\\_split.py:676: UserWarning: The least populated class in y has only 1 members, which is less than n_splits=10.\n",
      "  warnings.warn(\n"
     ]
    },
    {
     "name": "stdout",
     "output_type": "stream",
     "text": [
      "Model:  K-Nearest Neighbor Average Accuracy:  5.40778133526311\n",
      "Model:  Naive Bayesian Average Accuracy:  7.916830441717666\n"
     ]
    },
    {
     "name": "stderr",
     "output_type": "stream",
     "text": [
      "C:\\Users\\davis\\anaconda3\\lib\\site-packages\\sklearn\\model_selection\\_split.py:676: UserWarning: The least populated class in y has only 1 members, which is less than n_splits=10.\n",
      "  warnings.warn(\n",
      "C:\\Users\\davis\\anaconda3\\lib\\site-packages\\sklearn\\model_selection\\_split.py:676: UserWarning: The least populated class in y has only 1 members, which is less than n_splits=10.\n",
      "  warnings.warn(\n"
     ]
    },
    {
     "name": "stdout",
     "output_type": "stream",
     "text": [
      "Model:  Support Vector Machine Average Accuracy:  5.33687819234734\n"
     ]
    },
    {
     "name": "stderr",
     "output_type": "stream",
     "text": [
      "C:\\Users\\davis\\anaconda3\\lib\\site-packages\\sklearn\\model_selection\\_split.py:676: UserWarning: The least populated class in y has only 1 members, which is less than n_splits=10.\n",
      "  warnings.warn(\n"
     ]
    },
    {
     "name": "stdout",
     "output_type": "stream",
     "text": [
      "Model:  Gradient Boosting Average Accuracy:  5.394559000762813\n"
     ]
    },
    {
     "name": "stderr",
     "output_type": "stream",
     "text": [
      "C:\\Users\\davis\\anaconda3\\lib\\site-packages\\sklearn\\model_selection\\_split.py:676: UserWarning: The least populated class in y has only 1 members, which is less than n_splits=10.\n",
      "  warnings.warn(\n"
     ]
    },
    {
     "name": "stdout",
     "output_type": "stream",
     "text": [
      "Model:  Random Forest Decision Tree Average Accuracy:  5.20595313673636\n",
      "Model:  Decision Tree Average Accuracy:  5.6058709903276\n"
     ]
    },
    {
     "name": "stderr",
     "output_type": "stream",
     "text": [
      "C:\\Users\\davis\\anaconda3\\lib\\site-packages\\sklearn\\model_selection\\_split.py:676: UserWarning: The least populated class in y has only 1 members, which is less than n_splits=10.\n",
      "  warnings.warn(\n",
      "C:\\Users\\davis\\anaconda3\\lib\\site-packages\\sklearn\\linear_model\\_logistic.py:814: ConvergenceWarning: lbfgs failed to converge (status=1):\n",
      "STOP: TOTAL NO. of ITERATIONS REACHED LIMIT.\n",
      "\n",
      "Increase the number of iterations (max_iter) or scale the data as shown in:\n",
      "    https://scikit-learn.org/stable/modules/preprocessing.html\n",
      "Please also refer to the documentation for alternative solver options:\n",
      "    https://scikit-learn.org/stable/modules/linear_model.html#logistic-regression\n",
      "  n_iter_i = _check_optimize_result(\n",
      "C:\\Users\\davis\\anaconda3\\lib\\site-packages\\sklearn\\model_selection\\_split.py:676: UserWarning: The least populated class in y has only 1 members, which is less than n_splits=10.\n",
      "  warnings.warn(\n",
      "C:\\Users\\davis\\anaconda3\\lib\\site-packages\\sklearn\\linear_model\\_logistic.py:814: ConvergenceWarning: lbfgs failed to converge (status=1):\n",
      "STOP: TOTAL NO. of ITERATIONS REACHED LIMIT.\n",
      "\n",
      "Increase the number of iterations (max_iter) or scale the data as shown in:\n",
      "    https://scikit-learn.org/stable/modules/preprocessing.html\n",
      "Please also refer to the documentation for alternative solver options:\n",
      "    https://scikit-learn.org/stable/modules/linear_model.html#logistic-regression\n",
      "  n_iter_i = _check_optimize_result(\n",
      "C:\\Users\\davis\\anaconda3\\lib\\site-packages\\sklearn\\linear_model\\_logistic.py:814: ConvergenceWarning: lbfgs failed to converge (status=1):\n",
      "STOP: TOTAL NO. of ITERATIONS REACHED LIMIT.\n",
      "\n",
      "Increase the number of iterations (max_iter) or scale the data as shown in:\n",
      "    https://scikit-learn.org/stable/modules/preprocessing.html\n",
      "Please also refer to the documentation for alternative solver options:\n",
      "    https://scikit-learn.org/stable/modules/linear_model.html#logistic-regression\n",
      "  n_iter_i = _check_optimize_result(\n",
      "C:\\Users\\davis\\anaconda3\\lib\\site-packages\\sklearn\\linear_model\\_logistic.py:814: ConvergenceWarning: lbfgs failed to converge (status=1):\n",
      "STOP: TOTAL NO. of ITERATIONS REACHED LIMIT.\n",
      "\n",
      "Increase the number of iterations (max_iter) or scale the data as shown in:\n",
      "    https://scikit-learn.org/stable/modules/preprocessing.html\n",
      "Please also refer to the documentation for alternative solver options:\n",
      "    https://scikit-learn.org/stable/modules/linear_model.html#logistic-regression\n",
      "  n_iter_i = _check_optimize_result(\n",
      "C:\\Users\\davis\\anaconda3\\lib\\site-packages\\sklearn\\linear_model\\_logistic.py:814: ConvergenceWarning: lbfgs failed to converge (status=1):\n",
      "STOP: TOTAL NO. of ITERATIONS REACHED LIMIT.\n",
      "\n",
      "Increase the number of iterations (max_iter) or scale the data as shown in:\n",
      "    https://scikit-learn.org/stable/modules/preprocessing.html\n",
      "Please also refer to the documentation for alternative solver options:\n",
      "    https://scikit-learn.org/stable/modules/linear_model.html#logistic-regression\n",
      "  n_iter_i = _check_optimize_result(\n",
      "C:\\Users\\davis\\anaconda3\\lib\\site-packages\\sklearn\\linear_model\\_logistic.py:814: ConvergenceWarning: lbfgs failed to converge (status=1):\n",
      "STOP: TOTAL NO. of ITERATIONS REACHED LIMIT.\n",
      "\n",
      "Increase the number of iterations (max_iter) or scale the data as shown in:\n",
      "    https://scikit-learn.org/stable/modules/preprocessing.html\n",
      "Please also refer to the documentation for alternative solver options:\n",
      "    https://scikit-learn.org/stable/modules/linear_model.html#logistic-regression\n",
      "  n_iter_i = _check_optimize_result(\n",
      "C:\\Users\\davis\\anaconda3\\lib\\site-packages\\sklearn\\linear_model\\_logistic.py:814: ConvergenceWarning: lbfgs failed to converge (status=1):\n",
      "STOP: TOTAL NO. of ITERATIONS REACHED LIMIT.\n",
      "\n",
      "Increase the number of iterations (max_iter) or scale the data as shown in:\n",
      "    https://scikit-learn.org/stable/modules/preprocessing.html\n",
      "Please also refer to the documentation for alternative solver options:\n",
      "    https://scikit-learn.org/stable/modules/linear_model.html#logistic-regression\n",
      "  n_iter_i = _check_optimize_result(\n",
      "C:\\Users\\davis\\anaconda3\\lib\\site-packages\\sklearn\\linear_model\\_logistic.py:814: ConvergenceWarning: lbfgs failed to converge (status=1):\n",
      "STOP: TOTAL NO. of ITERATIONS REACHED LIMIT.\n",
      "\n",
      "Increase the number of iterations (max_iter) or scale the data as shown in:\n",
      "    https://scikit-learn.org/stable/modules/preprocessing.html\n",
      "Please also refer to the documentation for alternative solver options:\n",
      "    https://scikit-learn.org/stable/modules/linear_model.html#logistic-regression\n",
      "  n_iter_i = _check_optimize_result(\n",
      "C:\\Users\\davis\\anaconda3\\lib\\site-packages\\sklearn\\linear_model\\_logistic.py:814: ConvergenceWarning: lbfgs failed to converge (status=1):\n",
      "STOP: TOTAL NO. of ITERATIONS REACHED LIMIT.\n",
      "\n",
      "Increase the number of iterations (max_iter) or scale the data as shown in:\n",
      "    https://scikit-learn.org/stable/modules/preprocessing.html\n",
      "Please also refer to the documentation for alternative solver options:\n",
      "    https://scikit-learn.org/stable/modules/linear_model.html#logistic-regression\n",
      "  n_iter_i = _check_optimize_result(\n",
      "C:\\Users\\davis\\anaconda3\\lib\\site-packages\\sklearn\\linear_model\\_logistic.py:814: ConvergenceWarning: lbfgs failed to converge (status=1):\n",
      "STOP: TOTAL NO. of ITERATIONS REACHED LIMIT.\n",
      "\n",
      "Increase the number of iterations (max_iter) or scale the data as shown in:\n",
      "    https://scikit-learn.org/stable/modules/preprocessing.html\n",
      "Please also refer to the documentation for alternative solver options:\n",
      "    https://scikit-learn.org/stable/modules/linear_model.html#logistic-regression\n",
      "  n_iter_i = _check_optimize_result(\n"
     ]
    },
    {
     "name": "stdout",
     "output_type": "stream",
     "text": [
      "Model:  Logistic Regression Average Accuracy:  5.33687819234734\n",
      "Model:  Linear Regression Average Accuracy:  4.68854975971251\n"
     ]
    },
    {
     "name": "stderr",
     "output_type": "stream",
     "text": [
      "C:\\Users\\davis\\anaconda3\\lib\\site-packages\\sklearn\\linear_model\\_logistic.py:814: ConvergenceWarning: lbfgs failed to converge (status=1):\n",
      "STOP: TOTAL NO. of ITERATIONS REACHED LIMIT.\n",
      "\n",
      "Increase the number of iterations (max_iter) or scale the data as shown in:\n",
      "    https://scikit-learn.org/stable/modules/preprocessing.html\n",
      "Please also refer to the documentation for alternative solver options:\n",
      "    https://scikit-learn.org/stable/modules/linear_model.html#logistic-regression\n",
      "  n_iter_i = _check_optimize_result(\n"
     ]
    }
   ],
   "source": [
    "from sklearn.model_selection import cross_validate\n",
    "\n",
    "\n",
    "T = T.astype('int')\n",
    "X_train, X_test, t_train, t_test = train_test_split(X, T, test_size=0.20, random_state=0)\n",
    "\n",
    "models = [[\"K-Nearest Neighbor\",knn],[\"Naive Bayesian\", bayes],[\"Support Vector Machine\",svm_classifier],[\"Gradient Boosting\",gb_classifier],[\"Random Forest Decision Tree\",rf_classifier],[\"Decision Tree\",tree_regressor],[\"Logistic Regression\",lr],[\"Linear Regression\",linearreg]]\n",
    "\n",
    "#loop through each model in models array\n",
    "for model in models:\n",
    "    #calculate accuracy score using 10-fold cross-validation\n",
    "    mod = model[1].fit(X_train,t_train)\n",
    "    rootMeanSquaredError = cross_validate(mod, X_train, t_train, cv=10, scoring=['neg_root_mean_squared_error'],return_train_score=True)\n",
    "    convertedRMSE = np.abs(np.mean(rootMeanSquaredError['test_neg_root_mean_squared_error']))\n",
    "    \n",
    "    print(\"Model: \", model[0], \"Average Accuracy: \", convertedRMSE)"
   ]
  },
  {
   "cell_type": "code",
   "execution_count": null,
   "id": "8ef05e27",
   "metadata": {},
   "outputs": [],
   "source": []
  }
 ],
 "metadata": {
  "kernelspec": {
   "display_name": "Python 3 (ipykernel)",
   "language": "python",
   "name": "python3"
  },
  "language_info": {
   "codemirror_mode": {
    "name": "ipython",
    "version": 3
   },
   "file_extension": ".py",
   "mimetype": "text/x-python",
   "name": "python",
   "nbconvert_exporter": "python",
   "pygments_lexer": "ipython3",
   "version": "3.9.12"
  }
 },
 "nbformat": 4,
 "nbformat_minor": 5
}
